{
 "cells": [
  {
   "cell_type": "code",
   "execution_count": 58,
   "metadata": {
    "extensions": {
     "jupyter_dashboards": {
      "version": 1,
      "views": {
       "grid_default": {
        "hidden": true
       },
       "report_default": {
        "hidden": true
       }
      }
     }
    }
   },
   "outputs": [],
   "source": [
    "# import required packages for data manupulation\n",
    "#import warnings\n",
    "#warnings.filterwarnings(\"ignore\", category=DeprecationWarning)\n",
    "import math\n",
    "import pandas as pd\n",
    "import numpy as np\n",
    "import matplotlib.pyplot as plt\n",
    "import sklearn\n",
    "import os\n",
    "import random\n",
    "import pickle\n",
    "import tensorflow as tf\n",
    "import keras\n",
    "#from keras.wrappers.scikit_learn import KerasClassifier\n",
    "plt.show()\n",
    "\n",
    "#pd.set_option('display.max_columns', None)"
   ]
  },
  {
   "cell_type": "code",
   "execution_count": 59,
   "metadata": {},
   "outputs": [],
   "source": [
    "import dask.dataframe as dd\n",
    "import graphviz"
   ]
  },
  {
   "cell_type": "code",
   "execution_count": 60,
   "metadata": {},
   "outputs": [],
   "source": [
    "#'''# income classification\n",
    "#os.chdir(r'/home/devbox2/income')\n",
    "os.chdir(r'/home/xavient/avidya')\n",
    "# data upload\n",
    "df = pd.read_csv('train.csv')\n",
    "#basedf = df.iloc[:,0:100]\n",
    "# INPUT: set customer identification code and target variable\n",
    "customer_identity_code = 'id'\n",
    "target_code = 'renewal'\n",
    "\n",
    "# INPUT: set target labels\n",
    "label_target1 = 1\n",
    "label_target0 = 0\n",
    "\n",
    "# INPUT: populate with columns, which is considered discrete or non continious\n",
    "object_columns = ['sourcing_channel','residence_area_type']\n",
    "\n",
    "\n",
    "# INPUT: populate with numeric columns\n",
    "#numdf = basedf.drop(['ID'], axis=1)\n",
    "#num_columns =  list(numdf.columns)\n",
    "numeric_columns_mean = []\n",
    "numeric_columns_zero = ['perc_premium_paid_by_cash_credit','age_in_days','Income','Count_3-6_months_late',\n",
    "                  'Count_6-12_months_late','Count_more_than_12_months_late','application_underwriting_score',\n",
    "                  'no_of_premiums_paid','premium']\n",
    "no_of_features = None\n",
    "\n",
    "keyword = 'Minority oversampling' #'Force balance' # 'Minority oversampling'\n",
    "#'''"
   ]
  },
  {
   "cell_type": "code",
   "execution_count": 61,
   "metadata": {},
   "outputs": [
    {
     "data": {
      "text/plain": [
       "\"# income classification\\n#os.chdir(r'/home/devbox2/income')\\nos.chdir(r'/home/xavient/titanic')\\n# data upload\\ndf = pd.read_csv('train.csv')\\n#basedf = df.iloc[:,0:100]\\n# INPUT: set customer identification code and target variable\\ncustomer_identity_code = 'PassengerId'\\ntarget_code = 'Survived'\\n\\n# INPUT: set target labels\\nlabel_target1 = 1\\nlabel_target0 = 0\\n\\n# INPUT: populate with columns, which is considered discrete or non continious\\nobject_columns = ['Pclass','Sex','SibSp','Parch','Cabin','Embarked','Name']\\n\\n\\n# INPUT: populate with numeric columns\\n#numdf = basedf.drop(['ID'], axis=1)\\n#num_columns =  list(numdf.columns)\\nnumeric_columns_mean = ['Age','Fare']\\nnumeric_columns_zero = []\\nno_of_features = None\\n\\nkeyword = '' #'Force balance' # 'Minority oversampling'\\n\""
      ]
     },
     "execution_count": 61,
     "metadata": {},
     "output_type": "execute_result"
    }
   ],
   "source": [
    "'''# income classification\n",
    "#os.chdir(r'/home/devbox2/income')\n",
    "os.chdir(r'/home/xavient/titanic')\n",
    "# data upload\n",
    "df = pd.read_csv('train.csv')\n",
    "#basedf = df.iloc[:,0:100]\n",
    "# INPUT: set customer identification code and target variable\n",
    "customer_identity_code = 'PassengerId'\n",
    "target_code = 'Survived'\n",
    "\n",
    "# INPUT: set target labels\n",
    "label_target1 = 1\n",
    "label_target0 = 0\n",
    "\n",
    "# INPUT: populate with columns, which is considered discrete or non continious\n",
    "object_columns = ['Pclass','Sex','SibSp','Parch','Cabin','Embarked','Name']\n",
    "\n",
    "\n",
    "# INPUT: populate with numeric columns\n",
    "#numdf = basedf.drop(['ID'], axis=1)\n",
    "#num_columns =  list(numdf.columns)\n",
    "numeric_columns_mean = ['Age','Fare']\n",
    "numeric_columns_zero = []\n",
    "no_of_features = None\n",
    "\n",
    "keyword = '' #'Force balance' # 'Minority oversampling'\n",
    "'''"
   ]
  },
  {
   "cell_type": "code",
   "execution_count": 62,
   "metadata": {
    "extensions": {
     "jupyter_dashboards": {
      "version": 1,
      "views": {
       "grid_default": {
        "hidden": true
       },
       "report_default": {}
      }
     }
    }
   },
   "outputs": [
    {
     "data": {
      "text/plain": [
       "\"# income classification\\n#os.chdir(r'/home/devbox2/income')\\nos.chdir(r'/home/xavient/santander')\\n# data upload\\ndf = pd.read_csv('training.csv')\\nbasedf = df.iloc[:,0:100]\\n# INPUT: set customer identification code and target variable\\ncustomer_identity_code = 'ID'\\ntarget_code = 'TARGET'\\n\\n# INPUT: set target labels\\nlabel_target1 = 1\\nlabel_target0 = 0\\n\\n# INPUT: populate with columns, which is considered discrete or non continious\\nobject_columns = []\\n\\n\\n# INPUT: populate with numeric columns\\nnumdf = basedf.drop(['ID'], axis=1)\\nnum_columns =  list(numdf.columns)\\nnumeric_columns_mean = list(num_columns)\\nnumeric_columns_zero = []\\nno_of_features = None\\n\\nkeyword = '' #'Force balance' # 'Minority oversampling'\\n\""
      ]
     },
     "execution_count": 62,
     "metadata": {},
     "output_type": "execute_result"
    }
   ],
   "source": [
    "'''# income classification\n",
    "#os.chdir(r'/home/devbox2/income')\n",
    "os.chdir(r'/home/xavient/santander')\n",
    "# data upload\n",
    "df = pd.read_csv('training.csv')\n",
    "basedf = df.iloc[:,0:100]\n",
    "# INPUT: set customer identification code and target variable\n",
    "customer_identity_code = 'ID'\n",
    "target_code = 'TARGET'\n",
    "\n",
    "# INPUT: set target labels\n",
    "label_target1 = 1\n",
    "label_target0 = 0\n",
    "\n",
    "# INPUT: populate with columns, which is considered discrete or non continious\n",
    "object_columns = []\n",
    "\n",
    "\n",
    "# INPUT: populate with numeric columns\n",
    "numdf = basedf.drop(['ID'], axis=1)\n",
    "num_columns =  list(numdf.columns)\n",
    "numeric_columns_mean = list(num_columns)\n",
    "numeric_columns_zero = []\n",
    "no_of_features = None\n",
    "\n",
    "keyword = '' #'Force balance' # 'Minority oversampling'\n",
    "'''"
   ]
  },
  {
   "cell_type": "code",
   "execution_count": 63,
   "metadata": {
    "extensions": {
     "jupyter_dashboards": {
      "version": 1,
      "views": {
       "grid_default": {
        "hidden": true
       },
       "report_default": {}
      }
     }
    }
   },
   "outputs": [
    {
     "data": {
      "text/plain": [
       "'# income classification\\n#os.chdir(r\\'/home/devbox2/income\\')\\nos.chdir(r\\'/home/xavient/homecredit\\')\\n# data upload\\ndf = pd.read_csv(\\'training.csv\\')\\n#df = df.iloc[:,0:50]\\n\\n\\n# INPUT: set customer identification code and target variable\\ncustomer_identity_code = \\'SK_ID_CURR\\'\\ntarget_code = \\'TARGET\\'\\n\\n# INPUT: set target labels\\nlabel_target1 = 1\\nlabel_target0 = 0\\n\\n# INPUT: populate with columns, which is considered discrete or non continious\\nobject_columns =  [\"CODE_GENDER\",\"NAME_EDUCATION_TYPE\",\"FLAG_OWN_CAR\",\"NAME_HOUSING_TYPE\",\"NAME_CONTRACT_TYPE\",\\n                   \"NAME_FAMILY_STATUS\",\"HOUSETYPE_MODE\",\"EMERGENCYSTATE_MODE\",\"WALLSMATERIAL_MODE\",\"FLAG_DOCUMENT_3\",\\n                   \"CODE_GENDER\",\"NAME_INCOME_TYPE\",\"NAME_EDUCATION_TYPE\",\"OCCUPATION_TYPE\",\"TOTALAREA_MODE\",\\n                   \"CNT_CHILDREN\",\"FLAG_OWN_CAR\",\"FLAG_PHONE\",\"FLAG_WORK_PHONE\",\"FLAG_DOCUMENT_6\",\"FONDKAPREMONT_MODE\",\\n                   \"NAME_CONTRACT_TYPE\",\"NAME_HOUSING_TYPE\",\"NAME_FAMILY_STATUS\",\"HOUSETYPE_MODE\",\"EMERGENCYSTATE_MODE\",\\n                   \"WALLSMATERIAL_MODE\",\"FLAG_DOCUMENT_3\",\"FLAG_EMP_PHONE\",\"CODE_GENDER\",\"NAME_EDUCATION_TYPE\",\\n                   \"NAME_INCOME_TYPE\",\"ORGANIZATION_TYPE\",\"OCCUPATION_TYPE\",\\'CODE_GENDER\\',\\'NAME_CONTRACT_TYPE\\',\\n                   \\'FLAG_OWN_CAR\\',\\'FLAG_OWN_REALTY\\',\\'CNT_CHILDREN\\',\\'NAME_TYPE_SUITE\\',\\'NAME_INCOME_TYPE\\',\\n                   \\'NAME_EDUCATION_TYPE\\',\\'NAME_FAMILY_STATUS\\',\\'NAME_HOUSING_TYPE\\',\\'OCCUPATION_TYPE\\',\\n                   \\'REGION_RATING_CLIENT\\',\\'REGION_RATING_CLIENT_W_CITY\\',\\'WEEKDAY_APPR_PROCESS_START\\',\\n                  \\'FLAG_MOBIL\\',\\'FLAG_EMP_PHONE\\',\\'FLAG_WORK_PHONE\\',\\'FLAG_CONT_MOBILE\\',\\'FLAG_PHONE\\',\\'FLAG_EMAIL\\',\\n                  \\'REG_REGION_NOT_LIVE_REGION\\',\\'REG_REGION_NOT_WORK_REGION\\',\\'LIVE_REGION_NOT_WORK_REGION\\',\\n                  \\'REG_CITY_NOT_LIVE_CITY\\',\\'REG_CITY_NOT_WORK_CITY\\',\\'LIVE_CITY_NOT_WORK_CITY\\',\\'ORGANIZATION_TYPE\\',\\n                  \\'WALLSMATERIAL_MODE\\',\\'EMERGENCYSTATE_MODE\\',\\'FLAG_DOCUMENT_2\\',\\'FLAG_DOCUMENT_3\\',\\'FLAG_DOCUMENT_4\\',\\n                  \\'FLAG_DOCUMENT_5\\',\\'FLAG_DOCUMENT_6\\',\\'FLAG_DOCUMENT_7\\',\\'FLAG_DOCUMENT_8\\',\\'FLAG_DOCUMENT_9\\',\\n                  \\'FLAG_DOCUMENT_10\\',\\'FLAG_DOCUMENT_11\\',\\'FLAG_DOCUMENT_12\\',\\'FLAG_DOCUMENT_13\\',\\'FLAG_DOCUMENT_14\\',\\n                  \\'FLAG_DOCUMENT_15\\',\\'FLAG_DOCUMENT_16\\',\\'FLAG_DOCUMENT_17\\',\\'FLAG_DOCUMENT_18\\',\\'FLAG_DOCUMENT_19\\',\\n                  \\'FLAG_DOCUMENT_20\\',\\'FLAG_DOCUMENT_21\\']\\n\\n# INPUT: populate with numeric columns\\nnumeric_columns_mean = [\"FLOORSMAX_AVG\",\"REGION_POPULATION_RELATIVE\",\"LIVINGAREA_MEDI\",\"APARTMENTS_AVG\",\\n                        \"YEARS_BEGINEXPLUATATION_AVG\",\"ENTRANCES_AVG\",\"ELEVATORS_AVG\",\"DAYS_REGISTRATION\",\\n                        \"BASEMENTAREA_MODE\",\"FLOORSMIN_AVG\",\"LIVINGAPARTMENTS_AVG\",\"YEARS_BUILD_MEDI\"]\\n\\nnumeric_columns_zero = [\"EXT_SOURCE_3\",\"EXT_SOURCE_2\",\"EXT_SOURCE_1\",\"DAYS_EMPLOYED\",\"AMT_GOODS_PRICE\",\"DAYS_BIRTH\",\\n                        \"AMT_CREDIT\",\"DAYS_LAST_PHONE_CHANGE\",\"DAYS_ID_PUBLISH\",\"REGION_POPULATION_RELATIVE\",\\n                        \"WALLSMATERIAL_MODE\",\"AMT_ANNUITY\",\\'OWN_CAR_AGE\\',\\'DAYS_EMPLOYED\\',\\'DAYS_REGISTRATION\\',\\'DAYS_ID_PUBLISH\\',\\n                        \\'HOUR_APPR_PROCESS_START\\',\\'EXT_SOURCE_1\\',\\'EXT_SOURCE_2\\',\\'EXT_SOURCE_3\\',\\'APARTMENTS_AVG\\',\\n                        \\'BASEMENTAREA_AVG\\',\\'YEARS_BEGINEXPLUATATION_AVG\\',\\'YEARS_BUILD_AVG\\',\\'COMMONAREA_AVG\\',\\'ELEVATORS_AVG\\',\\n                        \\'ENTRANCES_AVG\\',\\'FLOORSMAX_AVG\\',\\'FLOORSMIN_AVG\\',\\'LANDAREA_AVG\\',\\'LIVINGAPARTMENTS_AVG\\',\\'LIVINGAREA_AVG\\',\\n                        \\'NONLIVINGAPARTMENTS_AVG\\',\\'NONLIVINGAREA_AVG\\',\\'APARTMENTS_MODE\\',\\'BASEMENTAREA_MODE\\',\\n                        \\'YEARS_BEGINEXPLUATATION_MODE\\',\\'YEARS_BUILD_MODE\\',\\'COMMONAREA_MODE\\',\\'ELEVATORS_MODE\\',\\n                        \\'ENTRANCES_MODE\\',\\'FLOORSMAX_MODE\\',\\'FLOORSMIN_MODE\\',\\'LANDAREA_MODE\\',\\'LIVINGAPARTMENTS_MODE\\',\\n                        \\'LIVINGAREA_MODE\\',\\'NONLIVINGAPARTMENTS_MODE\\',\\'NONLIVINGAREA_MODE\\',\\'APARTMENTS_MEDI\\',\\n                        \\'BASEMENTAREA_MEDI\\',\\'YEARS_BEGINEXPLUATATION_MEDI\\',\\'YEARS_BUILD_MEDI\\',\\'COMMONAREA_MEDI\\',\\n                        \\'ELEVATORS_MEDI\\',\\'ENTRANCES_MEDI\\',\\'FLOORSMAX_MEDI\\',\\'FLOORSMIN_MEDI\\',\\'LANDAREA_MEDI\\',\\n                        \\'LIVINGAPARTMENTS_MEDI\\',\\'LIVINGAREA_MEDI\\',\\'NONLIVINGAPARTMENTS_MEDI\\',\\'NONLIVINGAREA_MEDI\\',\\n                        \\'HOUSETYPE_MODE\\',\\'TOTALAREA_MODE\\',\\'OBS_30_CNT_SOCIAL_CIRCLE\\',\\n                        \\'DEF_30_CNT_SOCIAL_CIRCLE\\',\\'OBS_60_CNT_SOCIAL_CIRCLE\\',\\'DEF_60_CNT_SOCIAL_CIRCLE\\',\\n                        \\'DAYS_LAST_PHONE_CHANGE\\']\\nno_of_features = 8\\n\\nkeyword = \\'Force balance\\' #\\'Force balance\\' # \\'Minority oversampling\\'\\n'"
      ]
     },
     "execution_count": 63,
     "metadata": {},
     "output_type": "execute_result"
    }
   ],
   "source": [
    "'''# income classification\n",
    "#os.chdir(r'/home/devbox2/income')\n",
    "os.chdir(r'/home/xavient/homecredit')\n",
    "# data upload\n",
    "df = pd.read_csv('training.csv')\n",
    "#df = df.iloc[:,0:50]\n",
    "\n",
    "\n",
    "# INPUT: set customer identification code and target variable\n",
    "customer_identity_code = 'SK_ID_CURR'\n",
    "target_code = 'TARGET'\n",
    "\n",
    "# INPUT: set target labels\n",
    "label_target1 = 1\n",
    "label_target0 = 0\n",
    "\n",
    "# INPUT: populate with columns, which is considered discrete or non continious\n",
    "object_columns =  [\"CODE_GENDER\",\"NAME_EDUCATION_TYPE\",\"FLAG_OWN_CAR\",\"NAME_HOUSING_TYPE\",\"NAME_CONTRACT_TYPE\",\n",
    "                   \"NAME_FAMILY_STATUS\",\"HOUSETYPE_MODE\",\"EMERGENCYSTATE_MODE\",\"WALLSMATERIAL_MODE\",\"FLAG_DOCUMENT_3\",\n",
    "                   \"CODE_GENDER\",\"NAME_INCOME_TYPE\",\"NAME_EDUCATION_TYPE\",\"OCCUPATION_TYPE\",\"TOTALAREA_MODE\",\n",
    "                   \"CNT_CHILDREN\",\"FLAG_OWN_CAR\",\"FLAG_PHONE\",\"FLAG_WORK_PHONE\",\"FLAG_DOCUMENT_6\",\"FONDKAPREMONT_MODE\",\n",
    "                   \"NAME_CONTRACT_TYPE\",\"NAME_HOUSING_TYPE\",\"NAME_FAMILY_STATUS\",\"HOUSETYPE_MODE\",\"EMERGENCYSTATE_MODE\",\n",
    "                   \"WALLSMATERIAL_MODE\",\"FLAG_DOCUMENT_3\",\"FLAG_EMP_PHONE\",\"CODE_GENDER\",\"NAME_EDUCATION_TYPE\",\n",
    "                   \"NAME_INCOME_TYPE\",\"ORGANIZATION_TYPE\",\"OCCUPATION_TYPE\",'CODE_GENDER','NAME_CONTRACT_TYPE',\n",
    "                   'FLAG_OWN_CAR','FLAG_OWN_REALTY','CNT_CHILDREN','NAME_TYPE_SUITE','NAME_INCOME_TYPE',\n",
    "                   'NAME_EDUCATION_TYPE','NAME_FAMILY_STATUS','NAME_HOUSING_TYPE','OCCUPATION_TYPE',\n",
    "                   'REGION_RATING_CLIENT','REGION_RATING_CLIENT_W_CITY','WEEKDAY_APPR_PROCESS_START',\n",
    "                  'FLAG_MOBIL','FLAG_EMP_PHONE','FLAG_WORK_PHONE','FLAG_CONT_MOBILE','FLAG_PHONE','FLAG_EMAIL',\n",
    "                  'REG_REGION_NOT_LIVE_REGION','REG_REGION_NOT_WORK_REGION','LIVE_REGION_NOT_WORK_REGION',\n",
    "                  'REG_CITY_NOT_LIVE_CITY','REG_CITY_NOT_WORK_CITY','LIVE_CITY_NOT_WORK_CITY','ORGANIZATION_TYPE',\n",
    "                  'WALLSMATERIAL_MODE','EMERGENCYSTATE_MODE','FLAG_DOCUMENT_2','FLAG_DOCUMENT_3','FLAG_DOCUMENT_4',\n",
    "                  'FLAG_DOCUMENT_5','FLAG_DOCUMENT_6','FLAG_DOCUMENT_7','FLAG_DOCUMENT_8','FLAG_DOCUMENT_9',\n",
    "                  'FLAG_DOCUMENT_10','FLAG_DOCUMENT_11','FLAG_DOCUMENT_12','FLAG_DOCUMENT_13','FLAG_DOCUMENT_14',\n",
    "                  'FLAG_DOCUMENT_15','FLAG_DOCUMENT_16','FLAG_DOCUMENT_17','FLAG_DOCUMENT_18','FLAG_DOCUMENT_19',\n",
    "                  'FLAG_DOCUMENT_20','FLAG_DOCUMENT_21']\n",
    "\n",
    "# INPUT: populate with numeric columns\n",
    "numeric_columns_mean = [\"FLOORSMAX_AVG\",\"REGION_POPULATION_RELATIVE\",\"LIVINGAREA_MEDI\",\"APARTMENTS_AVG\",\n",
    "                        \"YEARS_BEGINEXPLUATATION_AVG\",\"ENTRANCES_AVG\",\"ELEVATORS_AVG\",\"DAYS_REGISTRATION\",\n",
    "                        \"BASEMENTAREA_MODE\",\"FLOORSMIN_AVG\",\"LIVINGAPARTMENTS_AVG\",\"YEARS_BUILD_MEDI\"]\n",
    "\n",
    "numeric_columns_zero = [\"EXT_SOURCE_3\",\"EXT_SOURCE_2\",\"EXT_SOURCE_1\",\"DAYS_EMPLOYED\",\"AMT_GOODS_PRICE\",\"DAYS_BIRTH\",\n",
    "                        \"AMT_CREDIT\",\"DAYS_LAST_PHONE_CHANGE\",\"DAYS_ID_PUBLISH\",\"REGION_POPULATION_RELATIVE\",\n",
    "                        \"WALLSMATERIAL_MODE\",\"AMT_ANNUITY\",'OWN_CAR_AGE','DAYS_EMPLOYED','DAYS_REGISTRATION','DAYS_ID_PUBLISH',\n",
    "                        'HOUR_APPR_PROCESS_START','EXT_SOURCE_1','EXT_SOURCE_2','EXT_SOURCE_3','APARTMENTS_AVG',\n",
    "                        'BASEMENTAREA_AVG','YEARS_BEGINEXPLUATATION_AVG','YEARS_BUILD_AVG','COMMONAREA_AVG','ELEVATORS_AVG',\n",
    "                        'ENTRANCES_AVG','FLOORSMAX_AVG','FLOORSMIN_AVG','LANDAREA_AVG','LIVINGAPARTMENTS_AVG','LIVINGAREA_AVG',\n",
    "                        'NONLIVINGAPARTMENTS_AVG','NONLIVINGAREA_AVG','APARTMENTS_MODE','BASEMENTAREA_MODE',\n",
    "                        'YEARS_BEGINEXPLUATATION_MODE','YEARS_BUILD_MODE','COMMONAREA_MODE','ELEVATORS_MODE',\n",
    "                        'ENTRANCES_MODE','FLOORSMAX_MODE','FLOORSMIN_MODE','LANDAREA_MODE','LIVINGAPARTMENTS_MODE',\n",
    "                        'LIVINGAREA_MODE','NONLIVINGAPARTMENTS_MODE','NONLIVINGAREA_MODE','APARTMENTS_MEDI',\n",
    "                        'BASEMENTAREA_MEDI','YEARS_BEGINEXPLUATATION_MEDI','YEARS_BUILD_MEDI','COMMONAREA_MEDI',\n",
    "                        'ELEVATORS_MEDI','ENTRANCES_MEDI','FLOORSMAX_MEDI','FLOORSMIN_MEDI','LANDAREA_MEDI',\n",
    "                        'LIVINGAPARTMENTS_MEDI','LIVINGAREA_MEDI','NONLIVINGAPARTMENTS_MEDI','NONLIVINGAREA_MEDI',\n",
    "                        'HOUSETYPE_MODE','TOTALAREA_MODE','OBS_30_CNT_SOCIAL_CIRCLE',\n",
    "                        'DEF_30_CNT_SOCIAL_CIRCLE','OBS_60_CNT_SOCIAL_CIRCLE','DEF_60_CNT_SOCIAL_CIRCLE',\n",
    "                        'DAYS_LAST_PHONE_CHANGE']\n",
    "no_of_features = 8\n",
    "\n",
    "keyword = 'Force balance' #'Force balance' # 'Minority oversampling'\n",
    "'''"
   ]
  },
  {
   "cell_type": "code",
   "execution_count": 64,
   "metadata": {
    "extensions": {
     "jupyter_dashboards": {
      "version": 1,
      "views": {
       "grid_default": {
        "hidden": true
       },
       "report_default": {}
      }
     }
    }
   },
   "outputs": [],
   "source": [
    "#df.shape,len(object_columns),len(numeric_columns_mean),len(numeric_columns_zero)"
   ]
  },
  {
   "cell_type": "code",
   "execution_count": 65,
   "metadata": {
    "extensions": {
     "jupyter_dashboards": {
      "version": 1,
      "views": {
       "grid_default": {
        "hidden": true
       },
       "report_default": {
        "hidden": true
       }
      }
     }
    }
   },
   "outputs": [
    {
     "data": {
      "text/plain": [
       "\"# income classification\\n#os.chdir(r'/home/devbox2/income')\\nos.chdir(r'/home/xavient/income')\\n# data upload\\ndf = pd.read_csv('training.csv')\\n\\n# INPUT: set customer identification code and target variable\\ncustomer_identity_code = 'ID'\\ntarget_code = 'target'\\n\\n# INPUT: set target labels\\nlabel_target1 = ' >50K'\\nlabel_target0 = ' <=50K'\\n\\n# INPUT: populate with columns, which is considered discrete or non continious\\nobject_columns = ['workclass','education','marital.status','occupation','relationship','race','sex','native.country']\\n\\n# INPUT: populate with numeric columns\\nnumeric_columns_mean = ['age','fnlwgt','education.num','capital.gain','capital.loss','hours.per.week']\\nnumeric_columns_zero = []\\nno_of_features = None\\n\\nkeyword = '' #'Minority oversampling' #'Force balance' # ''\\n#\""
      ]
     },
     "execution_count": 65,
     "metadata": {},
     "output_type": "execute_result"
    }
   ],
   "source": [
    "'''# income classification\n",
    "#os.chdir(r'/home/devbox2/income')\n",
    "os.chdir(r'/home/xavient/income')\n",
    "# data upload\n",
    "df = pd.read_csv('training.csv')\n",
    "\n",
    "# INPUT: set customer identification code and target variable\n",
    "customer_identity_code = 'ID'\n",
    "target_code = 'target'\n",
    "\n",
    "# INPUT: set target labels\n",
    "label_target1 = ' >50K'\n",
    "label_target0 = ' <=50K'\n",
    "\n",
    "# INPUT: populate with columns, which is considered discrete or non continious\n",
    "object_columns = ['workclass','education','marital.status','occupation','relationship','race','sex','native.country']\n",
    "\n",
    "# INPUT: populate with numeric columns\n",
    "numeric_columns_mean = ['age','fnlwgt','education.num','capital.gain','capital.loss','hours.per.week']\n",
    "numeric_columns_zero = []\n",
    "no_of_features = None\n",
    "\n",
    "keyword = '' #'Minority oversampling' #'Force balance' # ''\n",
    "#'''"
   ]
  },
  {
   "cell_type": "code",
   "execution_count": 66,
   "metadata": {
    "extensions": {
     "jupyter_dashboards": {
      "version": 1,
      "views": {
       "grid_default": {
        "col": 0,
        "height": 14,
        "hidden": true,
        "row": 0,
        "width": 4
       },
       "report_default": {
        "hidden": true
       }
      }
     }
    }
   },
   "outputs": [
    {
     "data": {
      "text/plain": [
       "\"# telecom churn prediction\\n#os.chdir(r'/home/devbox2/xavient_churn_project')\\nos.chdir(r'/home/xavient/xavient_churn_project')\\n# data upload\\ndf = pd.read_csv('training.csv')\\n\\n# INPUT: set customer identification code and target variable\\ncustomer_identity_code = 'customerID'\\ntarget_code = 'Churn'\\n\\n# INPUT: set target labels\\nlabel_target1 = 'Yes'\\nlabel_target0 = 'No'\\n\\n# INPUT: populate with columns, which is considered discrete or non continious\\nobject_columns = ['gender','SeniorCitizen','Partner','Dependents','PhoneService','MultipleLines','InternetService',\\n                  'OnlineSecurity','OnlineBackup','DeviceProtection','TechSupport','StreamingTV','StreamingMovies','Contract',\\n                  'PaperlessBilling','PaymentMethod']\\n\\n# INPUT: populate with numeric columns\\nnumeric_columns_mean = ['MonthlyCharges','TotalCharges']\\nnumeric_columns_zero = ['tenure']\\nno_of_features = None\\n\\nkeyword = ''#'Minority oversampling' #'Minority oversampling' #'Force balance' # ''\\n#\""
      ]
     },
     "execution_count": 66,
     "metadata": {},
     "output_type": "execute_result"
    }
   ],
   "source": [
    "'''# telecom churn prediction\n",
    "#os.chdir(r'/home/devbox2/xavient_churn_project')\n",
    "os.chdir(r'/home/xavient/xavient_churn_project')\n",
    "# data upload\n",
    "df = pd.read_csv('training.csv')\n",
    "\n",
    "# INPUT: set customer identification code and target variable\n",
    "customer_identity_code = 'customerID'\n",
    "target_code = 'Churn'\n",
    "\n",
    "# INPUT: set target labels\n",
    "label_target1 = 'Yes'\n",
    "label_target0 = 'No'\n",
    "\n",
    "# INPUT: populate with columns, which is considered discrete or non continious\n",
    "object_columns = ['gender','SeniorCitizen','Partner','Dependents','PhoneService','MultipleLines','InternetService',\n",
    "                  'OnlineSecurity','OnlineBackup','DeviceProtection','TechSupport','StreamingTV','StreamingMovies','Contract',\n",
    "                  'PaperlessBilling','PaymentMethod']\n",
    "\n",
    "# INPUT: populate with numeric columns\n",
    "numeric_columns_mean = ['MonthlyCharges','TotalCharges']\n",
    "numeric_columns_zero = ['tenure']\n",
    "no_of_features = None\n",
    "\n",
    "keyword = ''#'Minority oversampling' #'Minority oversampling' #'Force balance' # ''\n",
    "#'''"
   ]
  },
  {
   "cell_type": "code",
   "execution_count": 67,
   "metadata": {
    "extensions": {
     "jupyter_dashboards": {
      "version": 1,
      "views": {
       "grid_default": {
        "col": 4,
        "height": 10,
        "hidden": true,
        "row": 0,
        "width": 4
       },
       "report_default": {
        "hidden": true
       }
      }
     }
    }
   },
   "outputs": [
    {
     "data": {
      "text/plain": [
       "\"# bankloan\\n#os.chdir(r'/home/devbox2/bankloan')\\nos.chdir(r'/home/xavient/bankloan')\\n# data upload\\ndf = pd.read_csv('training.csv')\\n\\n# INPUT: set customer identification code and target variable\\ncustomer_identity_code = 'ID'\\ntarget_code = 'y'\\n\\n# INPUT: set target labels\\nlabel_target1 = 'yes'\\nlabel_target0 = 'no'\\n\\n# INPUT: populate with columns, which is considered discrete or non continious\\nobject_columns = ['job','marital','education','default','housing','loan','contact','poutcome']#'month',\\n\\n# INPUT: populate with numeric columns\\nnumeric_columns_mean = ['age','duration','campaign','pdays']\\nnumeric_columns_zero = []\\nno_of_features = None\\n\\nkeyword ='Minority oversampling' #'Minority oversampling' #'Force balance' # ''\\n#\""
      ]
     },
     "execution_count": 67,
     "metadata": {},
     "output_type": "execute_result"
    }
   ],
   "source": [
    "'''# bankloan\n",
    "#os.chdir(r'/home/devbox2/bankloan')\n",
    "os.chdir(r'/home/xavient/bankloan')\n",
    "# data upload\n",
    "df = pd.read_csv('training.csv')\n",
    "\n",
    "# INPUT: set customer identification code and target variable\n",
    "customer_identity_code = 'ID'\n",
    "target_code = 'y'\n",
    "\n",
    "# INPUT: set target labels\n",
    "label_target1 = 'yes'\n",
    "label_target0 = 'no'\n",
    "\n",
    "# INPUT: populate with columns, which is considered discrete or non continious\n",
    "object_columns = ['job','marital','education','default','housing','loan','contact','poutcome']#'month',\n",
    "\n",
    "# INPUT: populate with numeric columns\n",
    "numeric_columns_mean = ['age','duration','campaign','pdays']\n",
    "numeric_columns_zero = []\n",
    "no_of_features = None\n",
    "\n",
    "keyword ='Minority oversampling' #'Minority oversampling' #'Force balance' # ''\n",
    "#'''"
   ]
  },
  {
   "cell_type": "code",
   "execution_count": 68,
   "metadata": {
    "extensions": {
     "jupyter_dashboards": {
      "version": 1,
      "views": {
       "grid_default": {
        "hidden": true
       },
       "report_default": {}
      }
     }
    }
   },
   "outputs": [],
   "source": [
    "#df.y.value_counts()"
   ]
  },
  {
   "cell_type": "code",
   "execution_count": 69,
   "metadata": {
    "extensions": {
     "jupyter_dashboards": {
      "version": 1,
      "views": {
       "grid_default": {
        "col": 8,
        "height": 12,
        "hidden": false,
        "row": 0,
        "width": 4
       },
       "report_default": {
        "hidden": true
       }
      }
     }
    }
   },
   "outputs": [
    {
     "data": {
      "text/plain": [
       "\"# creditcardfraud\\n#os.chdir(r'/home/devbox2/creditcardfraud')\\nos.chdir(r'/home/xavient/creditcardfraud')\\n# data upload\\ndf = pd.read_csv('training.csv')\\n\\n# INPUT: set customer identification code and target variable\\ncustomer_identity_code = 'ID'\\ntarget_code = 'Class'\\n\\n# INPUT: set target labels\\nlabel_target1 = 1\\nlabel_target0 = 0\\n\\n# INPUT: populate with columns, which is considered discrete or non continious\\nobject_columns = []\\n\\n# INPUT: populate with numeric columns\\nnumeric_columns_mean = ['Time', 'V1', 'V2', 'V3', 'V4', 'V5', 'V6', 'V7', 'V8', 'V9', 'V10', 'V11', 'V12', 'V13', 'V14', 'V15',\\n                       'V16', 'V17', 'V18', 'V19', 'V20', 'V21', 'V22', 'V23', 'V24', 'V25', 'V26', 'V27', 'V28', 'Amount']\\nnumeric_columns_zero = []\\nno_of_features = None\\n\\nkeyword = 'Minority oversampling' #'Minority oversampling' #'Force balance' # ''\\n\""
      ]
     },
     "execution_count": 69,
     "metadata": {},
     "output_type": "execute_result"
    }
   ],
   "source": [
    "'''# creditcardfraud\n",
    "#os.chdir(r'/home/devbox2/creditcardfraud')\n",
    "os.chdir(r'/home/xavient/creditcardfraud')\n",
    "# data upload\n",
    "df = pd.read_csv('training.csv')\n",
    "\n",
    "# INPUT: set customer identification code and target variable\n",
    "customer_identity_code = 'ID'\n",
    "target_code = 'Class'\n",
    "\n",
    "# INPUT: set target labels\n",
    "label_target1 = 1\n",
    "label_target0 = 0\n",
    "\n",
    "# INPUT: populate with columns, which is considered discrete or non continious\n",
    "object_columns = []\n",
    "\n",
    "# INPUT: populate with numeric columns\n",
    "numeric_columns_mean = ['Time', 'V1', 'V2', 'V3', 'V4', 'V5', 'V6', 'V7', 'V8', 'V9', 'V10', 'V11', 'V12', 'V13', 'V14', 'V15',\n",
    "                       'V16', 'V17', 'V18', 'V19', 'V20', 'V21', 'V22', 'V23', 'V24', 'V25', 'V26', 'V27', 'V28', 'Amount']\n",
    "numeric_columns_zero = []\n",
    "no_of_features = None\n",
    "\n",
    "keyword = 'Minority oversampling' #'Minority oversampling' #'Force balance' # ''\n",
    "'''"
   ]
  },
  {
   "cell_type": "code",
   "execution_count": 70,
   "metadata": {
    "extensions": {
     "jupyter_dashboards": {
      "version": 1,
      "views": {
       "grid_default": {
        "col": 4,
        "height": 4,
        "hidden": false,
        "row": 0,
        "width": 4
       },
       "report_default": {
        "hidden": true
       }
      }
     }
    }
   },
   "outputs": [
    {
     "name": "stdout",
     "output_type": "stream",
     "text": [
      "(79853, 13)\n"
     ]
    }
   ],
   "source": [
    "# shuffle data\n",
    "from sklearn.utils import shuffle\n",
    "df = shuffle(df, random_state =42)\n",
    "print(df.shape)\n",
    "#if df.shape[0] >= 50000:\n",
    "#    df = df.sample(50000)"
   ]
  },
  {
   "cell_type": "code",
   "execution_count": 71,
   "metadata": {
    "extensions": {
     "jupyter_dashboards": {
      "version": 1,
      "views": {
       "grid_default": {
        "hidden": true
       },
       "report_default": {
        "hidden": true
       }
      }
     }
    }
   },
   "outputs": [],
   "source": [
    "no_of_features = no_of_features\n",
    "pickle_out_num = open(\"no_of_features.pickle\",\"wb\")\n",
    "pickle.dump(no_of_features, pickle_out_num)\n",
    "pickle_out_num.close()"
   ]
  },
  {
   "cell_type": "code",
   "execution_count": 72,
   "metadata": {
    "extensions": {
     "jupyter_dashboards": {
      "version": 1,
      "views": {
       "grid_default": {
        "hidden": true
       },
       "report_default": {
        "hidden": true
       }
      }
     }
    }
   },
   "outputs": [],
   "source": [
    "# set index for customer identification code\n",
    "\n",
    "df = df.set_index(customer_identity_code)"
   ]
  },
  {
   "cell_type": "code",
   "execution_count": 73,
   "metadata": {
    "extensions": {
     "jupyter_dashboards": {
      "version": 1,
      "views": {
       "grid_default": {
        "hidden": true
       },
       "report_default": {
        "hidden": true
       }
      }
     }
    }
   },
   "outputs": [],
   "source": [
    "# identify target variable\n",
    "\n",
    "df['target'] = df[target_code]"
   ]
  },
  {
   "cell_type": "code",
   "execution_count": 74,
   "metadata": {
    "extensions": {
     "jupyter_dashboards": {
      "version": 1,
      "views": {
       "grid_default": {
        "hidden": true
       },
       "report_default": {
        "hidden": true
       }
      }
     }
    }
   },
   "outputs": [],
   "source": [
    "label_target1 = label_target1\n",
    "pickle_out_cat = open(\"label_target1.pickle\",\"wb\")\n",
    "pickle.dump(label_target1, pickle_out_cat)\n",
    "pickle_out_cat.close()\n",
    "\n",
    "label_target0 = label_target0\n",
    "pickle_out_cat = open(\"label_target0.pickle\",\"wb\")\n",
    "pickle.dump(label_target0, pickle_out_cat)\n",
    "pickle_out_cat.close()"
   ]
  },
  {
   "cell_type": "code",
   "execution_count": 75,
   "metadata": {
    "extensions": {
     "jupyter_dashboards": {
      "version": 1,
      "views": {
       "grid_default": {
        "hidden": true
       },
       "report_default": {
        "hidden": true
       }
      }
     }
    }
   },
   "outputs": [],
   "source": [
    "# function to recode target levels\n",
    "\n",
    "def dependent_col(row):\n",
    "    if row['target'] == label_target1:\n",
    "        val = 1  # input\n",
    "    elif row['target'] == label_target0:\n",
    "        val = 0  # imput\n",
    "    else:\n",
    "        val = 2\n",
    "    return val"
   ]
  },
  {
   "cell_type": "code",
   "execution_count": 76,
   "metadata": {
    "extensions": {
     "jupyter_dashboards": {
      "version": 1,
      "views": {
       "grid_default": {
        "hidden": true
       },
       "report_default": {
        "hidden": true
       }
      }
     }
    }
   },
   "outputs": [],
   "source": [
    "customer_identity_code = customer_identity_code\n",
    "pickle_out_cat = open(\"customer_identity_code.pickle\",\"wb\")\n",
    "pickle.dump(customer_identity_code, pickle_out_cat)\n",
    "pickle_out_cat.close()\n",
    "\n",
    "target_code = target_code\n",
    "pickle_out_cat = open(\"target_code.pickle\",\"wb\")\n",
    "pickle.dump(target_code, pickle_out_cat)\n",
    "pickle_out_cat.close()"
   ]
  },
  {
   "cell_type": "code",
   "execution_count": 77,
   "metadata": {
    "extensions": {
     "jupyter_dashboards": {
      "version": 1,
      "views": {
       "grid_default": {
        "hidden": true
       },
       "report_default": {
        "hidden": true
       }
      }
     }
    }
   },
   "outputs": [],
   "source": [
    "# view recoded data in the target variable\n",
    "df['target'] = df.apply(dependent_col, axis=1)\n",
    "#print(df.loc[:,['target','Churn']].head(5)) #check changes in target recoding\n"
   ]
  },
  {
   "cell_type": "code",
   "execution_count": 78,
   "metadata": {
    "extensions": {
     "jupyter_dashboards": {
      "version": 1,
      "views": {
       "grid_default": {
        "hidden": true
       },
       "report_default": {
        "hidden": true
       }
      }
     }
    }
   },
   "outputs": [],
   "source": [
    "# keep rows when target variable is finite\n",
    "\n",
    "start = df.shape[1]\n",
    "df = df[np.isfinite(df['target'])]\n",
    "finish = df.shape[1]\n",
    "#print(\"The number of row/rows dropped because of missing target variable is \" + str(start-finish))"
   ]
  },
  {
   "cell_type": "code",
   "execution_count": 79,
   "metadata": {
    "extensions": {
     "jupyter_dashboards": {
      "version": 1,
      "views": {
       "grid_default": {
        "hidden": true
       },
       "report_default": {
        "hidden": true
       }
      }
     }
    }
   },
   "outputs": [],
   "source": [
    "# INPUT: populate with numeric columns\n",
    "mean_num_df = df[numeric_columns_mean].copy()\n",
    "zero_num_df = df[numeric_columns_zero].copy()\n",
    "scale_columns = numeric_columns_mean + numeric_columns_zero\n",
    "length = len(scale_columns) # for figure width"
   ]
  },
  {
   "cell_type": "code",
   "execution_count": 80,
   "metadata": {
    "extensions": {
     "jupyter_dashboards": {
      "version": 1,
      "views": {
       "grid_default": {
        "hidden": true
       },
       "report_default": {
        "hidden": true
       }
      }
     }
    }
   },
   "outputs": [],
   "source": [
    "# count number of missing values in each column\n",
    "#print(\"Columnwise missing value count\")\n",
    "#view = df.isnull().sum().plot.bar(figsize=(100,20))\n",
    "#plt.show()"
   ]
  },
  {
   "cell_type": "code",
   "execution_count": 81,
   "metadata": {},
   "outputs": [
    {
     "data": {
      "text/plain": [
       "(0, 9, 9, 2)"
      ]
     },
     "execution_count": 81,
     "metadata": {},
     "output_type": "execute_result"
    }
   ],
   "source": [
    "len(numeric_columns_mean),len(numeric_columns_zero),len(scale_columns),len(object_columns)"
   ]
  },
  {
   "cell_type": "code",
   "execution_count": 82,
   "metadata": {
    "extensions": {
     "jupyter_dashboards": {
      "version": 1,
      "views": {
       "grid_default": {
        "hidden": true
       },
       "report_default": {}
      }
     }
    }
   },
   "outputs": [],
   "source": [
    "new = pd.DataFrame(df.isnull().sum()/df.shape[0])\n",
    "new.columns = ['percentage_missing']"
   ]
  },
  {
   "cell_type": "code",
   "execution_count": 83,
   "metadata": {
    "extensions": {
     "jupyter_dashboards": {
      "version": 1,
      "views": {
       "grid_default": {
        "hidden": true
       },
       "report_default": {}
      }
     }
    }
   },
   "outputs": [],
   "source": [
    "# function to recode target levels\n",
    "\n",
    "def missing_col(row):\n",
    "    if row['percentage_missing'] >= 0.90:\n",
    "        val = 0  # input\n",
    "    else:\n",
    "        val = 1\n",
    "    return val"
   ]
  },
  {
   "cell_type": "code",
   "execution_count": 84,
   "metadata": {
    "extensions": {
     "jupyter_dashboards": {
      "version": 1,
      "views": {
       "grid_default": {
        "hidden": true
       },
       "report_default": {}
      }
     }
    }
   },
   "outputs": [],
   "source": [
    "new['cond'] = new.apply(missing_col, axis=1)"
   ]
  },
  {
   "cell_type": "code",
   "execution_count": 85,
   "metadata": {},
   "outputs": [],
   "source": [
    "new1 = pd.DataFrame()"
   ]
  },
  {
   "cell_type": "code",
   "execution_count": 86,
   "metadata": {
    "extensions": {
     "jupyter_dashboards": {
      "version": 1,
      "views": {
       "grid_default": {
        "hidden": true
       },
       "report_default": {}
      }
     }
    }
   },
   "outputs": [],
   "source": [
    "new1 = new[new['cond']==1]"
   ]
  },
  {
   "cell_type": "code",
   "execution_count": 87,
   "metadata": {
    "extensions": {
     "jupyter_dashboards": {
      "version": 1,
      "views": {
       "grid_default": {
        "hidden": true
       },
       "report_default": {}
      }
     }
    }
   },
   "outputs": [],
   "source": [
    "base_final = list(new1.index)"
   ]
  },
  {
   "cell_type": "code",
   "execution_count": 88,
   "metadata": {
    "extensions": {
     "jupyter_dashboards": {
      "version": 1,
      "views": {
       "grid_default": {
        "hidden": true
       },
       "report_default": {}
      }
     }
    }
   },
   "outputs": [],
   "source": [
    "def intersection(lst1, lst2):\n",
    "    lst3 = [value for value in lst1 if value in lst2]\n",
    "    return lst3"
   ]
  },
  {
   "cell_type": "code",
   "execution_count": 89,
   "metadata": {
    "extensions": {
     "jupyter_dashboards": {
      "version": 1,
      "views": {
       "grid_default": {
        "hidden": true
       },
       "report_default": {}
      }
     }
    }
   },
   "outputs": [],
   "source": [
    "object_columns = intersection(base_final,object_columns)\n",
    "numeric_columns_mean = intersection(base_final,numeric_columns_mean)\n",
    "numeric_columns_zero = intersection(base_final,numeric_columns_zero)"
   ]
  },
  {
   "cell_type": "code",
   "execution_count": 90,
   "metadata": {},
   "outputs": [
    {
     "data": {
      "text/plain": [
       "11"
      ]
     },
     "execution_count": 90,
     "metadata": {},
     "output_type": "execute_result"
    }
   ],
   "source": [
    "len(object_columns+numeric_columns_mean+numeric_columns_zero)"
   ]
  },
  {
   "cell_type": "code",
   "execution_count": 91,
   "metadata": {
    "extensions": {
     "jupyter_dashboards": {
      "version": 1,
      "views": {
       "grid_default": {
        "hidden": true
       },
       "report_default": {
        "hidden": true
       }
      }
     }
    }
   },
   "outputs": [],
   "source": [
    "df_length = df.shape[1]\n",
    "df_row = df.shape[0]\n",
    "random.seed(42)"
   ]
  },
  {
   "cell_type": "code",
   "execution_count": 92,
   "metadata": {},
   "outputs": [
    {
     "data": {
      "text/html": [
       "<div>\n",
       "<style scoped>\n",
       "    .dataframe tbody tr th:only-of-type {\n",
       "        vertical-align: middle;\n",
       "    }\n",
       "\n",
       "    .dataframe tbody tr th {\n",
       "        vertical-align: top;\n",
       "    }\n",
       "\n",
       "    .dataframe thead th {\n",
       "        text-align: right;\n",
       "    }\n",
       "</style>\n",
       "<table border=\"1\" class=\"dataframe\">\n",
       "  <thead>\n",
       "    <tr style=\"text-align: right;\">\n",
       "      <th></th>\n",
       "      <th>sourcing_channel</th>\n",
       "      <th>residence_area_type</th>\n",
       "      <th>perc_premium_paid_by_cash_credit</th>\n",
       "      <th>age_in_days</th>\n",
       "      <th>Income</th>\n",
       "      <th>Count_3-6_months_late</th>\n",
       "      <th>Count_6-12_months_late</th>\n",
       "      <th>Count_more_than_12_months_late</th>\n",
       "      <th>application_underwriting_score</th>\n",
       "      <th>no_of_premiums_paid</th>\n",
       "      <th>premium</th>\n",
       "    </tr>\n",
       "    <tr>\n",
       "      <th>id</th>\n",
       "      <th></th>\n",
       "      <th></th>\n",
       "      <th></th>\n",
       "      <th></th>\n",
       "      <th></th>\n",
       "      <th></th>\n",
       "      <th></th>\n",
       "      <th></th>\n",
       "      <th></th>\n",
       "      <th></th>\n",
       "      <th></th>\n",
       "    </tr>\n",
       "  </thead>\n",
       "  <tbody>\n",
       "    <tr>\n",
       "      <th>67251</th>\n",
       "      <td>D</td>\n",
       "      <td>Urban</td>\n",
       "      <td>0.12472</td>\n",
       "      <td>16797</td>\n",
       "      <td>180610</td>\n",
       "      <td>0.0</td>\n",
       "      <td>0.0</td>\n",
       "      <td>0.0</td>\n",
       "      <td>98.86</td>\n",
       "      <td>15</td>\n",
       "      <td>13800</td>\n",
       "    </tr>\n",
       "    <tr>\n",
       "      <th>86418</th>\n",
       "      <td>B</td>\n",
       "      <td>Urban</td>\n",
       "      <td>0.02079</td>\n",
       "      <td>23375</td>\n",
       "      <td>168110</td>\n",
       "      <td>0.0</td>\n",
       "      <td>0.0</td>\n",
       "      <td>0.0</td>\n",
       "      <td>99.19</td>\n",
       "      <td>20</td>\n",
       "      <td>7500</td>\n",
       "    </tr>\n",
       "    <tr>\n",
       "      <th>101134</th>\n",
       "      <td>A</td>\n",
       "      <td>Urban</td>\n",
       "      <td>0.03292</td>\n",
       "      <td>21908</td>\n",
       "      <td>102550</td>\n",
       "      <td>0.0</td>\n",
       "      <td>0.0</td>\n",
       "      <td>0.0</td>\n",
       "      <td>98.38</td>\n",
       "      <td>7</td>\n",
       "      <td>7500</td>\n",
       "    </tr>\n",
       "    <tr>\n",
       "      <th>55058</th>\n",
       "      <td>C</td>\n",
       "      <td>Urban</td>\n",
       "      <td>0.14721</td>\n",
       "      <td>13510</td>\n",
       "      <td>270440</td>\n",
       "      <td>0.0</td>\n",
       "      <td>0.0</td>\n",
       "      <td>0.0</td>\n",
       "      <td>99.28</td>\n",
       "      <td>7</td>\n",
       "      <td>24300</td>\n",
       "    </tr>\n",
       "    <tr>\n",
       "      <th>2632</th>\n",
       "      <td>A</td>\n",
       "      <td>Urban</td>\n",
       "      <td>1.00000</td>\n",
       "      <td>10965</td>\n",
       "      <td>51130</td>\n",
       "      <td>0.0</td>\n",
       "      <td>0.0</td>\n",
       "      <td>0.0</td>\n",
       "      <td>99.79</td>\n",
       "      <td>3</td>\n",
       "      <td>3300</td>\n",
       "    </tr>\n",
       "  </tbody>\n",
       "</table>\n",
       "</div>"
      ],
      "text/plain": [
       "       sourcing_channel residence_area_type  perc_premium_paid_by_cash_credit  \\\n",
       "id                                                                              \n",
       "67251                 D               Urban                           0.12472   \n",
       "86418                 B               Urban                           0.02079   \n",
       "101134                A               Urban                           0.03292   \n",
       "55058                 C               Urban                           0.14721   \n",
       "2632                  A               Urban                           1.00000   \n",
       "\n",
       "        age_in_days  Income  Count_3-6_months_late  Count_6-12_months_late  \\\n",
       "id                                                                           \n",
       "67251         16797  180610                    0.0                     0.0   \n",
       "86418         23375  168110                    0.0                     0.0   \n",
       "101134        21908  102550                    0.0                     0.0   \n",
       "55058         13510  270440                    0.0                     0.0   \n",
       "2632          10965   51130                    0.0                     0.0   \n",
       "\n",
       "        Count_more_than_12_months_late  application_underwriting_score  \\\n",
       "id                                                                       \n",
       "67251                              0.0                           98.86   \n",
       "86418                              0.0                           99.19   \n",
       "101134                             0.0                           98.38   \n",
       "55058                              0.0                           99.28   \n",
       "2632                               0.0                           99.79   \n",
       "\n",
       "        no_of_premiums_paid  premium  \n",
       "id                                    \n",
       "67251                    15    13800  \n",
       "86418                    20     7500  \n",
       "101134                    7     7500  \n",
       "55058                     7    24300  \n",
       "2632                      3     3300  "
      ]
     },
     "execution_count": 92,
     "metadata": {},
     "output_type": "execute_result"
    }
   ],
   "source": [
    "df[object_columns+numeric_columns_mean+numeric_columns_zero].head()"
   ]
  },
  {
   "cell_type": "code",
   "execution_count": 93,
   "metadata": {},
   "outputs": [],
   "source": [
    "#df['Title'] = df.Name.str.extract('([A-Za-z]+)\\. ', expand=False)\n",
    "#object_columns = list[object_columns + 'Title']"
   ]
  },
  {
   "cell_type": "code",
   "execution_count": 94,
   "metadata": {
    "extensions": {
     "jupyter_dashboards": {
      "version": 1,
      "views": {
       "grid_default": {
        "hidden": true
       },
       "report_default": {
        "hidden": true
       }
      }
     }
    }
   },
   "outputs": [],
   "source": [
    "# target variable distibution\n",
    "\n",
    "#df[\"target\"].value_counts().plot.pie(figsize=(4, 4))\n",
    "#print(df.target.value_counts())\n",
    "#plt.show()"
   ]
  },
  {
   "cell_type": "code",
   "execution_count": 95,
   "metadata": {
    "extensions": {
     "jupyter_dashboards": {
      "version": 1,
      "views": {
       "grid_default": {
        "hidden": true
       },
       "report_default": {
        "hidden": true
       }
      }
     }
    }
   },
   "outputs": [],
   "source": [
    "from sklearn.utils import resample\n",
    "# Separate majority and minority classes\n",
    "\n",
    "if keyword == 'Force balance':\n",
    "    df_majority = df[df.target==0]\n",
    "    df_minority = df[df.target==1]\n",
    "    # Downsample majority class\n",
    "    df_majority_downsampled = resample(df_majority, \n",
    "                                 replace=False,    # sample without replacement\n",
    "                                 n_samples=df_minority.target.count()*3,     # to match minority class\n",
    "                                 random_state=123) # reproducible results\n",
    " \n",
    "    # Combine minority class with downsampled majority class\n",
    "    df_downsampled = pd.concat([df_majority_downsampled, df_minority])\n",
    " \n",
    "    # Display new class counts\n",
    "    df_downsampled.target.value_counts()\n",
    "    df = df_downsampled\n",
    "else:\n",
    "    pass\n",
    "    "
   ]
  },
  {
   "cell_type": "code",
   "execution_count": 96,
   "metadata": {
    "extensions": {
     "jupyter_dashboards": {
      "version": 1,
      "views": {
       "grid_default": {
        "col": 8,
        "height": 11,
        "hidden": true,
        "row": 12,
        "width": 4
       },
       "report_default": {}
      }
     }
    }
   },
   "outputs": [
    {
     "name": "stdout",
     "output_type": "stream",
     "text": [
      "1    74855\n",
      "0     4998\n",
      "Name: target, dtype: int64\n"
     ]
    },
    {
     "data": {
      "image/png": "[encoded data removed]",
      "text/plain": [
       "<matplotlib.figure.Figure at 0x7f2f251f1898>"
      ]
     },
     "metadata": {},
     "output_type": "display_data"
    }
   ],
   "source": [
    "# target variable distibution\n",
    "\n",
    "df[\"target\"].value_counts().plot.pie(figsize=(4, 4))\n",
    "print(df.target.value_counts())\n",
    "plt.show()"
   ]
  },
  {
   "cell_type": "code",
   "execution_count": 97,
   "metadata": {
    "extensions": {
     "jupyter_dashboards": {
      "version": 1,
      "views": {
       "grid_default": {
        "hidden": true
       },
       "report_default": {
        "hidden": true
       }
      }
     }
    }
   },
   "outputs": [],
   "source": [
    "object_df = df[object_columns].copy()"
   ]
  },
  {
   "cell_type": "code",
   "execution_count": 98,
   "metadata": {
    "extensions": {
     "jupyter_dashboards": {
      "version": 1,
      "views": {
       "grid_default": {
        "hidden": true
       },
       "report_default": {
        "hidden": true
       }
      }
     }
    }
   },
   "outputs": [],
   "source": [
    "# typecasting 'object' type on variables that may be populated with numbers, but are of non-continious nature such as gender\n",
    "\n",
    "for column in object_columns:\n",
    "    df[column] = df[column].astype('object')"
   ]
  },
  {
   "cell_type": "code",
   "execution_count": 99,
   "metadata": {
    "extensions": {
     "jupyter_dashboards": {
      "version": 1,
      "views": {
       "grid_default": {
        "hidden": true
       },
       "report_default": {
        "hidden": true
       }
      }
     }
    }
   },
   "outputs": [],
   "source": [
    "# view levels per columns in the non-continious variable\n",
    "\n",
    "#print(\"Value count of each level for datatype 'object'\")\n",
    "\n",
    "#for column in object_columns:\n",
    "#    print(column)\n",
    "#    df[column].value_counts().plot.bar(figsize=(df_length/4, 2))\n",
    "#    plt.show()"
   ]
  },
  {
   "cell_type": "code",
   "execution_count": 100,
   "metadata": {
    "extensions": {
     "jupyter_dashboards": {
      "version": 1,
      "views": {
       "grid_default": {
        "hidden": true
       },
       "report_default": {
        "hidden": true
       }
      }
     }
    }
   },
   "outputs": [],
   "source": [
    "# object variables converted to categories for cat.codes\n",
    "\n",
    "object_columns = df[object_columns].select_dtypes(['object']).columns"
   ]
  },
  {
   "cell_type": "code",
   "execution_count": 101,
   "metadata": {
    "extensions": {
     "jupyter_dashboards": {
      "version": 1,
      "views": {
       "grid_default": {
        "hidden": true
       },
       "report_default": {
        "hidden": true
       }
      }
     }
    }
   },
   "outputs": [],
   "source": [
    "# missing value imputation strategy: create a new level called 'UNKNOWN'\n",
    "\n",
    "for column in object_columns:\n",
    "    if df[column].dtypes==\"object\":\n",
    "        df[column] = df[column].fillna(\"UKNOWN\").astype('object')    "
   ]
  },
  {
   "cell_type": "code",
   "execution_count": 102,
   "metadata": {
    "extensions": {
     "jupyter_dashboards": {
      "version": 1,
      "views": {
       "grid_default": {
        "hidden": true
       },
       "report_default": {
        "hidden": true
       }
      }
     }
    }
   },
   "outputs": [],
   "source": [
    "# change datatype'\n",
    "\n",
    "for column in object_columns:\n",
    "    if df[column].dtypes==\"object\":\n",
    "        df[column] = df[column].astype('category')"
   ]
  },
  {
   "cell_type": "code",
   "execution_count": 103,
   "metadata": {
    "extensions": {
     "jupyter_dashboards": {
      "version": 1,
      "views": {
       "grid_default": {
        "hidden": true
       },
       "report_default": {
        "hidden": true
       }
      }
     }
    }
   },
   "outputs": [],
   "source": [
    "# recoding categories to number with numerical and alphabatical order 0-1 and a-z, respectively\n",
    "\n",
    "df[object_columns] = df[object_columns].apply(lambda x: x.cat.codes)"
   ]
  },
  {
   "cell_type": "code",
   "execution_count": 104,
   "metadata": {
    "extensions": {
     "jupyter_dashboards": {
      "version": 1,
      "views": {
       "grid_default": {
        "hidden": true
       },
       "report_default": {
        "hidden": true
       }
      }
     }
    }
   },
   "outputs": [],
   "source": [
    "# chisquare test function\n",
    "\n",
    "import scipy.stats as scs\n",
    "\n",
    "def categories(series):\n",
    "    return range(int(series.min()), int(series.max()) + 1)\n",
    "\n",
    "def chi_square_of_df_cols(df, col1, col2):\n",
    "    df_col1, df_col2 = df[col1], df[col2]\n",
    "\n",
    "    result = [[sum((df_col1 == cat1) & (df_col2 == cat2))\n",
    "               for cat2 in categories(df_col2)]\n",
    "              for cat1 in categories(df_col1)]\n",
    "\n",
    "    return scs.chi2_contingency(result)[1]"
   ]
  },
  {
   "cell_type": "code",
   "execution_count": 105,
   "metadata": {
    "extensions": {
     "jupyter_dashboards": {
      "version": 1,
      "views": {
       "grid_default": {
        "hidden": true
       },
       "report_default": {
        "hidden": true
       }
      }
     }
    }
   },
   "outputs": [],
   "source": [
    "# function to check chisquare test for category variables\n",
    "\n",
    "#if object_columns.size< 0:\n",
    "#    pass\n",
    "#else:\n",
    "#    object_columns_final = []\n",
    "#    chi_square_pvalue_final = []\n",
    "#    for column in object_columns:\n",
    "#        chisquare_pvalue = round(chi_square_of_df_cols(df, column, 'target').astype('float64'),3)\n",
    "#        #if chi_square_of_df_cols(df, column, 'target') <= 0.05:\n",
    "#        object_columns_final.append(column)\n",
    "#        chi_square_pvalue_final.append(chisquare_pvalue)\n",
    "#"
   ]
  },
  {
   "cell_type": "code",
   "execution_count": 106,
   "metadata": {
    "extensions": {
     "jupyter_dashboards": {
      "version": 1,
      "views": {
       "grid_default": {
        "hidden": true
       },
       "report_default": {
        "hidden": true
       }
      }
     }
    }
   },
   "outputs": [],
   "source": [
    "\n",
    "#chi_square_pvalue_final = []\n",
    "# data frame create to view column wise p-value with respect to the target\n",
    "#if object_columns.size< 0:\n",
    "#    pass\n",
    "#else:\n",
    "#    df_catname = pd.DataFrame({'feature_name':object_columns_final})\n",
    "#    df_pvalue = pd.DataFrame({'p-value':chi_square_pvalue_final})\n",
    "\n",
    "#    frames = [df_catname,df_pvalue]\n",
    "#    print(pd.concat(frames,axis=1))\n"
   ]
  },
  {
   "cell_type": "code",
   "execution_count": 107,
   "metadata": {
    "extensions": {
     "jupyter_dashboards": {
      "version": 1,
      "views": {
       "grid_default": {
        "hidden": true
       },
       "report_default": {
        "hidden": true
       }
      }
     }
    }
   },
   "outputs": [],
   "source": [
    "# final list of categorical variables that survive the p-value check in the chi square test\n",
    "\n",
    "object_columns_final = []\n",
    "\n",
    "for column in object_columns:\n",
    "    chisquare_pvalue = round(chi_square_of_df_cols(df, column, 'target'),3) #.astype('float64')\n",
    "    if chi_square_of_df_cols(df, column, 'target') <= 0.05:\n",
    "        object_columns_final.append(column)\n",
    "#print(\"Categorical variables selected for modeling post chi-square test\")\n",
    "#print(object_columns_final)"
   ]
  },
  {
   "cell_type": "code",
   "execution_count": 108,
   "metadata": {
    "extensions": {
     "jupyter_dashboards": {
      "version": 1,
      "views": {
       "grid_default": {
        "hidden": true
       },
       "report_default": {
        "hidden": true
       }
      }
     }
    }
   },
   "outputs": [],
   "source": [
    "# function to check near zero variance\n",
    "\n",
    "#object_columns_final_nz = []\n",
    "#object_columns_final_variance = []\n",
    "\n",
    "#for column in object_columns_final:\n",
    "#    object_columns_variance = df[column].var(axis=None, skipna=None, level=None, ddof=1, numeric_only=None)\n",
    "#    #if  feature_columns_variance > 0.00:\n",
    "#    object_columns_final_nz.append(column)\n",
    "#    object_columns_final_variance.append(object_columns_variance)"
   ]
  },
  {
   "cell_type": "code",
   "execution_count": 109,
   "metadata": {
    "extensions": {
     "jupyter_dashboards": {
      "version": 1,
      "views": {
       "grid_default": {
        "hidden": true
       },
       "report_default": {
        "hidden": true
       }
      }
     }
    }
   },
   "outputs": [],
   "source": [
    "#df_object_columns_final_nz = pd.DataFrame({'feature_name':object_columns_final_nz})\n",
    "#df_variance = pd.DataFrame({'variance':object_columns_final_variance})\n",
    "#frames = [df_object_columns_final_nz,df_variance]\n",
    "\n",
    "#print(pd.concat(frames,axis=1))"
   ]
  },
  {
   "cell_type": "code",
   "execution_count": 110,
   "metadata": {
    "extensions": {
     "jupyter_dashboards": {
      "version": 1,
      "views": {
       "grid_default": {
        "hidden": true
       },
       "report_default": {
        "hidden": true
       }
      }
     }
    }
   },
   "outputs": [],
   "source": [
    "# function to check near zero variance\n",
    "\n",
    "object_columns_final_nz = []\n",
    "object_columns_final_variance = []\n",
    "\n",
    "for column in object_columns_final:\n",
    "    object_columns_variance = df[column].var(axis=None, skipna=None, level=None, ddof=1, numeric_only=None)\n",
    "    if  object_columns_variance > 0.05:\n",
    "        object_columns_final_nz.append(column)\n",
    "        object_columns_final_variance.append(object_columns_variance)\n",
    "#print(\"Categorical variables with variance above 0.01\")\n",
    "#print(object_columns_final_nz)\n",
    "#print(\"number of categorical columns: \"+ str(len(object_columns_final_nz)))"
   ]
  },
  {
   "cell_type": "code",
   "execution_count": 111,
   "metadata": {
    "extensions": {
     "jupyter_dashboards": {
      "version": 1,
      "views": {
       "grid_default": {
        "hidden": true
       },
       "report_default": {
        "hidden": true
       }
      }
     }
    }
   },
   "outputs": [],
   "source": [
    "# saving categorical columns for scoring\n",
    "\n",
    "import pickle\n",
    "object_columns_final_nz = object_columns_final_nz\n",
    "\n",
    "pickle_out_cat = open(\"object_columns_final_nz.pickle\",\"wb\")\n",
    "pickle.dump(object_columns_final_nz, pickle_out_cat)\n",
    "pickle_out_cat.close()"
   ]
  },
  {
   "cell_type": "code",
   "execution_count": 112,
   "metadata": {
    "extensions": {
     "jupyter_dashboards": {
      "version": 1,
      "views": {
       "grid_default": {
        "hidden": true
       },
       "report_default": {
        "hidden": true
       }
      }
     }
    }
   },
   "outputs": [],
   "source": [
    "# load numeric columns for scoring\n",
    "import pickle\n",
    "pickle_in_cat = open(\"object_columns_final_nz.pickle\",\"rb\")\n",
    "object_columns_final_nz_index = pickle.load(pickle_in_cat)\n",
    "#print(\"no of columns in categorical type \" + str(len(object_columns_final_nz_index)))\n",
    "object_df_final = pd.DataFrame(object_df[object_columns_final_nz])\n",
    "#print(\"columns of categorical type \" + str(object_df_final.columns))\n"
   ]
  },
  {
   "cell_type": "code",
   "execution_count": 113,
   "metadata": {
    "extensions": {
     "jupyter_dashboards": {
      "version": 1,
      "views": {
       "grid_default": {
        "hidden": true
       },
       "report_default": {
        "hidden": true
       }
      }
     }
    }
   },
   "outputs": [],
   "source": [
    "#if scale_columns == list():\n",
    "#    pass\n",
    "#else:\n",
    "#    df[scale_columns].plot.box(figsize=(length*2,4))\n",
    "#    print(\"Check for continous variable scaling\")\n",
    "#    plt.show()"
   ]
  },
  {
   "cell_type": "code",
   "execution_count": 114,
   "metadata": {
    "extensions": {
     "jupyter_dashboards": {
      "version": 1,
      "views": {
       "grid_default": {
        "hidden": true
       },
       "report_default": {
        "hidden": true
       }
      }
     }
    }
   },
   "outputs": [],
   "source": [
    "# for mean imputation\n",
    "\n",
    "for column in numeric_columns_mean:\n",
    "    if df[column].dtypes in [\"int64\",\"float64\"] :\n",
    "        df[column] = df[column].fillna(df[column].mean())\n",
    "\n",
    "# for 0 imputation\n",
    "\n",
    "for column in numeric_columns_zero:\n",
    "    if df[column].dtypes in [\"int64\",\"float64\"] :\n",
    "        df[column] = df[column].fillna(0)"
   ]
  },
  {
   "cell_type": "code",
   "execution_count": 115,
   "metadata": {
    "extensions": {
     "jupyter_dashboards": {
      "version": 1,
      "views": {
       "grid_default": {
        "hidden": true
       },
       "report_default": {
        "hidden": true
       }
      }
     }
    }
   },
   "outputs": [],
   "source": [
    "# scale the numerical variables to bring the numerical variables to the same scale for fault tolerance\n",
    "from sklearn.preprocessing import scale\n",
    "if numeric_columns_mean == list():\n",
    "    pass\n",
    "else:\n",
    "    for column in numeric_columns_mean:\n",
    "        if df[column].dtypes in [\"int64\",\"float64\"] :\n",
    "            df[column] = scale(df[column].astype('float64'))\n",
    "    #print(\"scaled numeric_columns_mean variables\")\n",
    "    #print(df[numeric_columns_mean].columns)\n",
    "    #df[numeric_columns_mean].plot.box(figsize=(length*2,4))\n",
    "    #print(\"number of numeric columns: \"+ str(len(numeric_columns_mean)))\n",
    "    #plt.show()"
   ]
  },
  {
   "cell_type": "code",
   "execution_count": 116,
   "metadata": {
    "extensions": {
     "jupyter_dashboards": {
      "version": 1,
      "views": {
       "grid_default": {
        "hidden": true
       },
       "report_default": {
        "hidden": true
       }
      }
     }
    }
   },
   "outputs": [],
   "source": [
    "# scale the numerical variables to bring the numerical variables to the same scale for fault tolerance\n",
    "from sklearn.preprocessing import scale\n",
    "if numeric_columns_zero == list():\n",
    "    pass\n",
    "else:\n",
    "    for column in numeric_columns_zero:\n",
    "        if df[column].dtypes in [\"int64\",\"float64\"] :\n",
    "            df[column] = scale(df[column].astype('float64'))\n",
    "    #print(\"scaled numeric_columns_mean variables\")\n",
    "    #print(df[numeric_columns_zero].columns)\n",
    "    #df[numeric_columns_zero].plot.box(figsize=(length*2,4))\n",
    "    #print(\"number of numeric_columns_zero columns: \"+ str(len(numeric_columns_zero)))\n",
    "    #plt.show()"
   ]
  },
  {
   "cell_type": "code",
   "execution_count": 117,
   "metadata": {
    "extensions": {
     "jupyter_dashboards": {
      "version": 1,
      "views": {
       "grid_default": {
        "hidden": true
       },
       "report_default": {
        "hidden": true
       }
      }
     }
    }
   },
   "outputs": [],
   "source": [
    "# function to check near zero variance\n",
    "#'''\n",
    "#numeric_columns_mean_final_nz = []\n",
    "#numeric_columns_mean_variance_final = []\n",
    "\n",
    "#for column in numeric_columns_mean:\n",
    "#    numeric_columns_mean_variance = df[column].var(axis=None, skipna=None, level=None, ddof=1, numeric_only=None)\n",
    "#    #if  feature_columns_variance > 0.00:\n",
    "#    numeric_columns_mean_final_nz.append(column)\n",
    "#    numeric_columns_mean_variance_final.append(numeric_columns_mean_variance)\n",
    "\n",
    "#df_numeric_columns_mean_final = pd.DataFrame({'feature_name':numeric_columns_mean_final_nz})\n",
    "#df_variance = pd.DataFrame({'variance':numeric_columns_mean_variance_final})\n",
    "#frames = [df_numeric_columns_mean_final,df_variance]\n",
    "#print(pd.concat(frames,axis=1))\n",
    "#'''"
   ]
  },
  {
   "cell_type": "code",
   "execution_count": 118,
   "metadata": {
    "extensions": {
     "jupyter_dashboards": {
      "version": 1,
      "views": {
       "grid_default": {
        "hidden": true
       },
       "report_default": {
        "hidden": true
       }
      }
     }
    }
   },
   "outputs": [],
   "source": [
    "# function to check near zero variance\n",
    "\n",
    "numeric_columns_mean_final_nz = []\n",
    "numeric_columns_mean_variance_final = []\n",
    "\n",
    "for column in numeric_columns_mean:\n",
    "    numeric_columns_mean_variance = df[column].var(axis=None, skipna=None, level=None, ddof=1, numeric_only=None)\n",
    "    if  numeric_columns_mean_variance > 0.05:\n",
    "        numeric_columns_mean_final_nz.append(column)\n",
    "        numeric_columns_mean_variance_final.append(numeric_columns_mean_variance)\n",
    "#print(\"numeric variables with variance above 0.01\")\n",
    "#print(numeric_columns_mean_final_nz)\n",
    "#print(\"number of numeric columns: \"+ str(len(numeric_columns_mean_final_nz)))\n"
   ]
  },
  {
   "cell_type": "code",
   "execution_count": 119,
   "metadata": {
    "extensions": {
     "jupyter_dashboards": {
      "version": 1,
      "views": {
       "grid_default": {
        "hidden": true
       },
       "report_default": {
        "hidden": true
       }
      }
     }
    }
   },
   "outputs": [],
   "source": [
    "# saving numeric columns for scoring\n",
    "\n",
    "numeric_columns_mean_final_nz_index = numeric_columns_mean_final_nz\n",
    "pickle_out_num = open(\"numeric_columns_mean_final_nz.pickle\",\"wb\")\n",
    "pickle.dump(numeric_columns_mean_final_nz_index, pickle_out_num)\n",
    "pickle_out_num.close()"
   ]
  },
  {
   "cell_type": "code",
   "execution_count": 120,
   "metadata": {
    "extensions": {
     "jupyter_dashboards": {
      "version": 1,
      "views": {
       "grid_default": {
        "hidden": true
       },
       "report_default": {
        "hidden": true
       }
      }
     }
    }
   },
   "outputs": [],
   "source": [
    "# load numeric columns for scoring\n",
    "\n",
    "pickle_in_num = open(\"numeric_columns_mean_final_nz.pickle\",\"rb\")\n",
    "numeric_columns_mean_final_nz_index = pickle.load(pickle_in_num)\n",
    "#len(numeric_columns_mean_final_nz_index)"
   ]
  },
  {
   "cell_type": "code",
   "execution_count": 121,
   "metadata": {
    "extensions": {
     "jupyter_dashboards": {
      "version": 1,
      "views": {
       "grid_default": {
        "hidden": true
       },
       "report_default": {
        "hidden": true
       }
      }
     }
    }
   },
   "outputs": [],
   "source": [
    "# function to check near zero variance\n",
    "\n",
    "#numeric_columns_zero_final_nz = []\n",
    "#numeric_columns_zero_variance_final = []\n",
    "\n",
    "#for column in numeric_columns_zero:\n",
    "#    numeric_columns_zero_variance = df[column].var(axis=None, skipna=None, level=None, ddof=1, numeric_only=None)\n",
    "#    #if  feature_columns_variance > 0.00:\n",
    "#    numeric_columns_zero_final_nz.append(column)\n",
    "#    numeric_columns_zero_variance_final.append(numeric_columns_zero_variance)\n",
    "#\n",
    "#df_numeric_columns_zero_final = pd.DataFrame({'feature_name':numeric_columns_zero_final_nz})\n",
    "#df_variance = pd.DataFrame({'variance':numeric_columns_zero_variance_final})\n",
    "#frames = [df_numeric_columns_zero_final,df_variance]\n",
    "\n",
    "#print(pd.concat(frames,axis=1))"
   ]
  },
  {
   "cell_type": "code",
   "execution_count": 122,
   "metadata": {
    "extensions": {
     "jupyter_dashboards": {
      "version": 1,
      "views": {
       "grid_default": {
        "hidden": true
       },
       "report_default": {
        "hidden": true
       }
      }
     }
    }
   },
   "outputs": [],
   "source": [
    "# function to check near zero variance\n",
    "\n",
    "numeric_columns_zero_final_nz = []\n",
    "numeric_columns_zero_variance_final = []\n",
    "\n",
    "for column in numeric_columns_zero:\n",
    "    numeric_columns_zero_variance = df[column].var(axis=None, skipna=None, level=None, ddof=1, numeric_only=None)\n",
    "    if  numeric_columns_zero_variance > 0.05:\n",
    "        numeric_columns_zero_final_nz.append(column)\n",
    "        numeric_columns_zero_variance_final.append(numeric_columns_zero_variance)\n",
    "#print(\"numeric variables with variance above 0.01\")\n",
    "#print(numeric_columns_zero_final_nz)\n",
    "#print(\"number of numeric columns: \"+ str(len(numeric_columns_zero_final_nz)))\n"
   ]
  },
  {
   "cell_type": "code",
   "execution_count": 123,
   "metadata": {
    "extensions": {
     "jupyter_dashboards": {
      "version": 1,
      "views": {
       "grid_default": {
        "hidden": true
       },
       "report_default": {
        "hidden": true
       }
      }
     }
    }
   },
   "outputs": [],
   "source": [
    "# saving numeric columns for scoring\n",
    "import pickle\n",
    "\n",
    "numeric_columns_zero_final_nz_index = numeric_columns_zero_final_nz\n",
    "pickle_out_num = open(\"numeric_columns_zero_final_nz.pickle\",\"wb\")\n",
    "pickle.dump(numeric_columns_zero_final_nz_index, pickle_out_num)\n",
    "pickle_out_num.close()"
   ]
  },
  {
   "cell_type": "code",
   "execution_count": 124,
   "metadata": {
    "extensions": {
     "jupyter_dashboards": {
      "version": 1,
      "views": {
       "grid_default": {
        "hidden": true
       },
       "report_default": {
        "hidden": true
       }
      }
     }
    }
   },
   "outputs": [],
   "source": [
    "# load numeric columns for scoring\n",
    "import pickle\n",
    "\n",
    "pickle_in_num = open(\"numeric_columns_zero_final_nz.pickle\",\"rb\")\n",
    "numeric_columns_zero_final_nz_index = pickle.load(pickle_in_num)\n",
    "len(numeric_columns_zero_final_nz_index)\n",
    "\n",
    "scale_columns_final_nz = numeric_columns_mean_final_nz_index + numeric_columns_zero_final_nz_index\n"
   ]
  },
  {
   "cell_type": "code",
   "execution_count": 125,
   "metadata": {},
   "outputs": [
    {
     "data": {
      "text/plain": [
       "\"\\nfrom statsmodels.stats.outliers_influence import variance_inflation_factor\\nfrom statsmodels.tools.tools import add_constant\\n\\nfinal1 = pd.concat([df[object_columns_final_nz],df[scale_columns_final_nz]],axis=1)\\nmax_vif = 1000\\nwhile max_vif >= 3 :\\n    X_scale_vif = final1.assign(const=1)\\n    scale_frame = pd.DataFrame([variance_inflation_factor(X_scale_vif.values, i) for i in range(X_scale_vif.shape[1])], \\n              index=X_scale_vif.columns)\\n    scale_frame.reset_index(level=0, inplace=True)\\n    scale_frame.columns = ['variable','vif']\\n    scale_frame = scale_frame[scale_frame.variable != 'const']\\n    scale_list = scale_frame.loc[scale_frame['vif'] == max(scale_frame['vif'])]['variable'].tolist()\\n    final1 = final1.drop(scale_list,axis=1)\\n    max_vif = max(scale_frame['vif'])\\n\""
      ]
     },
     "execution_count": 125,
     "metadata": {},
     "output_type": "execute_result"
    }
   ],
   "source": [
    "'''\n",
    "from statsmodels.stats.outliers_influence import variance_inflation_factor\n",
    "from statsmodels.tools.tools import add_constant\n",
    "\n",
    "final1 = pd.concat([df[object_columns_final_nz],df[scale_columns_final_nz]],axis=1)\n",
    "max_vif = 1000\n",
    "while max_vif >= 3 :\n",
    "    X_scale_vif = final1.assign(const=1)\n",
    "    scale_frame = pd.DataFrame([variance_inflation_factor(X_scale_vif.values, i) for i in range(X_scale_vif.shape[1])], \n",
    "              index=X_scale_vif.columns)\n",
    "    scale_frame.reset_index(level=0, inplace=True)\n",
    "    scale_frame.columns = ['variable','vif']\n",
    "    scale_frame = scale_frame[scale_frame.variable != 'const']\n",
    "    scale_list = scale_frame.loc[scale_frame['vif'] == max(scale_frame['vif'])]['variable'].tolist()\n",
    "    final1 = final1.drop(scale_list,axis=1)\n",
    "    max_vif = max(scale_frame['vif'])\n",
    "'''"
   ]
  },
  {
   "cell_type": "code",
   "execution_count": 126,
   "metadata": {},
   "outputs": [
    {
     "data": {
      "text/plain": [
       "(79853, 10)"
      ]
     },
     "execution_count": 126,
     "metadata": {},
     "output_type": "execute_result"
    }
   ],
   "source": [
    "import dask\n",
    "from statsmodels.stats.outliers_influence import variance_inflation_factor\n",
    "from statsmodels.tools.tools import add_constant\n",
    "final1 = pd.concat([df[object_columns_final_nz],df[scale_columns_final_nz]],axis=1)\n",
    "final1.shape"
   ]
  },
  {
   "cell_type": "code",
   "execution_count": 127,
   "metadata": {},
   "outputs": [],
   "source": [
    "#'''\n",
    "\n",
    "\n",
    "max_vif = 1000\n",
    "while max_vif >= 3 :\n",
    "    scale_frame = pd.DataFrame()\n",
    "    X_scale_vif = final1.assign(const=1)\n",
    "    scale_frame[\"features\"] = X_scale_vif.columns\n",
    "    scale_frame[\"VIF_Factor\"] = [variance_inflation_factor(X_scale_vif.values, i) for i in range(X_scale_vif.shape[1])]\n",
    "    scale_frame = scale_frame[scale_frame.features != 'const']\n",
    "    scale_list = scale_frame.loc[scale_frame['VIF_Factor'] == max(scale_frame['VIF_Factor'])]['features'].tolist()\n",
    "    final1 = final1.drop(scale_list,axis=1)\n",
    "    max_vif = max(scale_frame['VIF_Factor'])\n",
    "#'''"
   ]
  },
  {
   "cell_type": "code",
   "execution_count": 129,
   "metadata": {},
   "outputs": [
    {
     "data": {
      "text/html": [
       "<div>\n",
       "<style scoped>\n",
       "    .dataframe tbody tr th:only-of-type {\n",
       "        vertical-align: middle;\n",
       "    }\n",
       "\n",
       "    .dataframe tbody tr th {\n",
       "        vertical-align: top;\n",
       "    }\n",
       "\n",
       "    .dataframe thead th {\n",
       "        text-align: right;\n",
       "    }\n",
       "</style>\n",
       "<table border=\"1\" class=\"dataframe\">\n",
       "  <thead>\n",
       "    <tr style=\"text-align: right;\">\n",
       "      <th></th>\n",
       "      <th>sourcing_channel</th>\n",
       "      <th>age_in_days</th>\n",
       "      <th>Income</th>\n",
       "      <th>Count_3-6_months_late</th>\n",
       "      <th>Count_6-12_months_late</th>\n",
       "      <th>Count_more_than_12_months_late</th>\n",
       "      <th>application_underwriting_score</th>\n",
       "      <th>no_of_premiums_paid</th>\n",
       "      <th>premium</th>\n",
       "    </tr>\n",
       "    <tr>\n",
       "      <th>id</th>\n",
       "      <th></th>\n",
       "      <th></th>\n",
       "      <th></th>\n",
       "      <th></th>\n",
       "      <th></th>\n",
       "      <th></th>\n",
       "      <th></th>\n",
       "      <th></th>\n",
       "      <th></th>\n",
       "    </tr>\n",
       "  </thead>\n",
       "  <tbody>\n",
       "    <tr>\n",
       "      <th>67251</th>\n",
       "      <td>3</td>\n",
       "      <td>-0.393515</td>\n",
       "      <td>-0.056863</td>\n",
       "      <td>-0.359383</td>\n",
       "      <td>-0.179012</td>\n",
       "      <td>-0.192199</td>\n",
       "      <td>0.185494</td>\n",
       "      <td>0.799920</td>\n",
       "      <td>0.305851</td>\n",
       "    </tr>\n",
       "    <tr>\n",
       "      <th>86418</th>\n",
       "      <td>1</td>\n",
       "      <td>0.869375</td>\n",
       "      <td>-0.082036</td>\n",
       "      <td>-0.359383</td>\n",
       "      <td>-0.179012</td>\n",
       "      <td>-0.192199</td>\n",
       "      <td>0.203072</td>\n",
       "      <td>1.766916</td>\n",
       "      <td>-0.364247</td>\n",
       "    </tr>\n",
       "    <tr>\n",
       "      <th>101134</th>\n",
       "      <td>0</td>\n",
       "      <td>0.587730</td>\n",
       "      <td>-0.214059</td>\n",
       "      <td>-0.359383</td>\n",
       "      <td>-0.179012</td>\n",
       "      <td>-0.192199</td>\n",
       "      <td>0.159926</td>\n",
       "      <td>-0.747272</td>\n",
       "      <td>-0.364247</td>\n",
       "    </tr>\n",
       "    <tr>\n",
       "      <th>55058</th>\n",
       "      <td>2</td>\n",
       "      <td>-1.024576</td>\n",
       "      <td>0.124034</td>\n",
       "      <td>-0.359383</td>\n",
       "      <td>-0.179012</td>\n",
       "      <td>-0.192199</td>\n",
       "      <td>0.207866</td>\n",
       "      <td>-0.747272</td>\n",
       "      <td>1.422680</td>\n",
       "    </tr>\n",
       "    <tr>\n",
       "      <th>2632</th>\n",
       "      <td>0</td>\n",
       "      <td>-1.513183</td>\n",
       "      <td>-0.317607</td>\n",
       "      <td>-0.359383</td>\n",
       "      <td>-0.179012</td>\n",
       "      <td>-0.192199</td>\n",
       "      <td>0.235033</td>\n",
       "      <td>-1.520869</td>\n",
       "      <td>-0.810978</td>\n",
       "    </tr>\n",
       "  </tbody>\n",
       "</table>\n",
       "</div>"
      ],
      "text/plain": [
       "        sourcing_channel  age_in_days    Income  Count_3-6_months_late  \\\n",
       "id                                                                       \n",
       "67251                  3    -0.393515 -0.056863              -0.359383   \n",
       "86418                  1     0.869375 -0.082036              -0.359383   \n",
       "101134                 0     0.587730 -0.214059              -0.359383   \n",
       "55058                  2    -1.024576  0.124034              -0.359383   \n",
       "2632                   0    -1.513183 -0.317607              -0.359383   \n",
       "\n",
       "        Count_6-12_months_late  Count_more_than_12_months_late  \\\n",
       "id                                                               \n",
       "67251                -0.179012                       -0.192199   \n",
       "86418                -0.179012                       -0.192199   \n",
       "101134               -0.179012                       -0.192199   \n",
       "55058                -0.179012                       -0.192199   \n",
       "2632                 -0.179012                       -0.192199   \n",
       "\n",
       "        application_underwriting_score  no_of_premiums_paid   premium  \n",
       "id                                                                     \n",
       "67251                         0.185494             0.799920  0.305851  \n",
       "86418                         0.203072             1.766916 -0.364247  \n",
       "101134                        0.159926            -0.747272 -0.364247  \n",
       "55058                         0.207866            -0.747272  1.422680  \n",
       "2632                          0.235033            -1.520869 -0.810978  "
      ]
     },
     "execution_count": 129,
     "metadata": {},
     "output_type": "execute_result"
    }
   ],
   "source": [
    "final1.head()"
   ]
  },
  {
   "cell_type": "code",
   "execution_count": 130,
   "metadata": {
    "extensions": {
     "jupyter_dashboards": {
      "version": 1,
      "views": {
       "grid_default": {
        "hidden": true
       },
       "report_default": {
        "hidden": true
       }
      }
     }
    }
   },
   "outputs": [],
   "source": [
    "#'''\n",
    "final_column_list = final1.columns\n",
    "pickle_out_num = open(\"final_column_list.pickle\",\"wb\")\n",
    "pickle.dump(final_column_list, pickle_out_num)\n",
    "pickle_out_num.close()\n",
    "#'''"
   ]
  },
  {
   "cell_type": "code",
   "execution_count": 131,
   "metadata": {
    "extensions": {
     "jupyter_dashboards": {
      "version": 1,
      "views": {
       "grid_default": {
        "hidden": true
       },
       "report_default": {
        "hidden": true
       }
      }
     }
    }
   },
   "outputs": [],
   "source": [
    "#final_column_list = list(final_column_list)"
   ]
  },
  {
   "cell_type": "code",
   "execution_count": 132,
   "metadata": {
    "extensions": {
     "jupyter_dashboards": {
      "version": 1,
      "views": {
       "grid_default": {
        "hidden": true
       },
       "report_default": {
        "hidden": true
       }
      }
     }
    }
   },
   "outputs": [],
   "source": [
    "#'''\n",
    "def intersection(lst1, lst2):\n",
    "    lst3 = [value for value in lst1 if value in lst2]\n",
    "    return lst3\n",
    "#'''"
   ]
  },
  {
   "cell_type": "code",
   "execution_count": 133,
   "metadata": {
    "extensions": {
     "jupyter_dashboards": {
      "version": 1,
      "views": {
       "grid_default": {
        "hidden": true
       },
       "report_default": {
        "hidden": true
       }
      }
     }
    }
   },
   "outputs": [],
   "source": [
    "scale_columns_final_nz = intersection(final_column_list,scale_columns_final_nz)"
   ]
  },
  {
   "cell_type": "code",
   "execution_count": 134,
   "metadata": {
    "extensions": {
     "jupyter_dashboards": {
      "version": 1,
      "views": {
       "grid_default": {
        "hidden": true
       },
       "report_default": {
        "hidden": true
       }
      }
     }
    }
   },
   "outputs": [],
   "source": [
    "object_columns_final_nz = intersection(final_column_list,object_columns_final_nz)"
   ]
  },
  {
   "cell_type": "code",
   "execution_count": 135,
   "metadata": {},
   "outputs": [
    {
     "data": {
      "text/plain": [
       "(8, 1)"
      ]
     },
     "execution_count": 135,
     "metadata": {},
     "output_type": "execute_result"
    }
   ],
   "source": [
    "len(scale_columns_final_nz),len(object_columns_final_nz)"
   ]
  },
  {
   "cell_type": "code",
   "execution_count": 136,
   "metadata": {
    "extensions": {
     "jupyter_dashboards": {
      "version": 1,
      "views": {
       "grid_default": {
        "hidden": true
       },
       "report_default": {}
      }
     }
    }
   },
   "outputs": [],
   "source": [
    "#one_hot_encoded_df = pd.get_dummies(object_df[object_columns_final_nz_index])\n",
    "#object_columns_final = one_hot_encoded_df.columns"
   ]
  },
  {
   "cell_type": "code",
   "execution_count": 137,
   "metadata": {
    "extensions": {
     "jupyter_dashboards": {
      "version": 1,
      "views": {
       "grid_default": {
        "hidden": true
       },
       "report_default": {
        "hidden": true
       }
      }
     }
    }
   },
   "outputs": [],
   "source": [
    "#object_columns_final_nz_index"
   ]
  },
  {
   "cell_type": "code",
   "execution_count": 138,
   "metadata": {
    "extensions": {
     "jupyter_dashboards": {
      "version": 1,
      "views": {
       "grid_default": {
        "hidden": true
       },
       "report_default": {
        "hidden": true
       }
      }
     }
    }
   },
   "outputs": [],
   "source": [
    "if no_of_features == None:\n",
    "    no_of_features = len(object_columns_final_nz_index + scale_columns_final_nz)"
   ]
  },
  {
   "cell_type": "code",
   "execution_count": 139,
   "metadata": {
    "extensions": {
     "jupyter_dashboards": {
      "version": 1,
      "views": {
       "grid_default": {
        "hidden": true
       },
       "report_default": {}
      }
     }
    }
   },
   "outputs": [],
   "source": [
    "dataframe = pd.concat([df[object_columns_final_nz],df[scale_columns_final_nz]],axis=1)"
   ]
  },
  {
   "cell_type": "code",
   "execution_count": 140,
   "metadata": {},
   "outputs": [
    {
     "data": {
      "text/plain": [
       "(79853, 9)"
      ]
     },
     "execution_count": 140,
     "metadata": {},
     "output_type": "execute_result"
    }
   ],
   "source": [
    "dataframe.shape"
   ]
  },
  {
   "cell_type": "code",
   "execution_count": 141,
   "metadata": {
    "extensions": {
     "jupyter_dashboards": {
      "version": 1,
      "views": {
       "grid_default": {
        "hidden": true
       },
       "report_default": {}
      }
     }
    }
   },
   "outputs": [],
   "source": [
    "target = df['target']"
   ]
  },
  {
   "cell_type": "code",
   "execution_count": 142,
   "metadata": {
    "extensions": {
     "jupyter_dashboards": {
      "version": 1,
      "views": {
       "grid_default": {
        "hidden": true
       },
       "report_default": {
        "hidden": true
       }
      }
     }
    }
   },
   "outputs": [],
   "source": [
    "# Feature Extraction with RFE\n",
    "from pandas import read_csv\n",
    "from sklearn.feature_selection import RFE\n",
    "from sklearn.linear_model import LogisticRegression\n",
    "\n",
    "dataframe = pd.concat([df[object_columns_final_nz],df[scale_columns_final_nz]],axis=1)\n",
    "target = df['target']\n",
    "\n",
    "X = dataframe.values\n",
    "Y = target.values\n",
    "\n",
    "# feature extraction\n",
    "model = LogisticRegression()\n",
    "rfe = RFE(model, no_of_features)\n",
    "fit = rfe.fit(X, Y)\n",
    "#print(\"Num Features: \" + str(fit.n_features_))\n",
    "#print(\"Selected Features: \" + str(fit.support_))\n",
    "#print(\"Feature Ranking: \" + str(fit.ranking_))\n",
    "#print(dataframe.columns)\n",
    "sorted_idx = np.argsort(fit.ranking_)\n"
   ]
  },
  {
   "cell_type": "code",
   "execution_count": 143,
   "metadata": {
    "extensions": {
     "jupyter_dashboards": {
      "version": 1,
      "views": {
       "grid_default": {
        "hidden": true
       },
       "report_default": {
        "hidden": true
       }
      }
     }
    }
   },
   "outputs": [],
   "source": [
    "final_feature_selection = dataframe.columns[sorted_idx][:no_of_features]"
   ]
  },
  {
   "cell_type": "code",
   "execution_count": 144,
   "metadata": {
    "extensions": {
     "jupyter_dashboards": {
      "version": 1,
      "views": {
       "grid_default": {
        "hidden": true
       },
       "report_default": {
        "hidden": true
       }
      }
     }
    }
   },
   "outputs": [],
   "source": [
    "final_feature_selection = final_feature_selection\n",
    "pickle_out_num = open(\"final_feature_selection.pickle\",\"wb\")\n",
    "pickle.dump(final_feature_selection, pickle_out_num)\n",
    "pickle_out_num.close()"
   ]
  },
  {
   "cell_type": "code",
   "execution_count": 145,
   "metadata": {
    "extensions": {
     "jupyter_dashboards": {
      "version": 1,
      "views": {
       "grid_default": {
        "hidden": true
       },
       "report_default": {
        "hidden": true
       }
      }
     }
    }
   },
   "outputs": [],
   "source": [
    "#final_feature_selection"
   ]
  },
  {
   "cell_type": "code",
   "execution_count": 146,
   "metadata": {
    "extensions": {
     "jupyter_dashboards": {
      "version": 1,
      "views": {
       "grid_default": {
        "hidden": true
       },
       "report_default": {
        "hidden": true
       }
      }
     }
    }
   },
   "outputs": [],
   "source": [
    "scale_columns_final_nz = intersection(final_feature_selection,scale_columns_final_nz)"
   ]
  },
  {
   "cell_type": "code",
   "execution_count": 147,
   "metadata": {
    "extensions": {
     "jupyter_dashboards": {
      "version": 1,
      "views": {
       "grid_default": {
        "hidden": true
       },
       "report_default": {
        "hidden": true
       }
      }
     }
    }
   },
   "outputs": [],
   "source": [
    "object_columns_final_nz = intersection(final_feature_selection,object_columns_final_nz)"
   ]
  },
  {
   "cell_type": "code",
   "execution_count": 148,
   "metadata": {},
   "outputs": [
    {
     "data": {
      "text/html": [
       "<div>\n",
       "<style scoped>\n",
       "    .dataframe tbody tr th:only-of-type {\n",
       "        vertical-align: middle;\n",
       "    }\n",
       "\n",
       "    .dataframe tbody tr th {\n",
       "        vertical-align: top;\n",
       "    }\n",
       "\n",
       "    .dataframe thead th {\n",
       "        text-align: right;\n",
       "    }\n",
       "</style>\n",
       "<table border=\"1\" class=\"dataframe\">\n",
       "  <thead>\n",
       "    <tr style=\"text-align: right;\">\n",
       "      <th></th>\n",
       "      <th>perc_premium_paid_by_cash_credit</th>\n",
       "      <th>age_in_days</th>\n",
       "      <th>Income</th>\n",
       "      <th>Count_3-6_months_late</th>\n",
       "      <th>Count_6-12_months_late</th>\n",
       "      <th>Count_more_than_12_months_late</th>\n",
       "      <th>application_underwriting_score</th>\n",
       "      <th>no_of_premiums_paid</th>\n",
       "      <th>sourcing_channel</th>\n",
       "      <th>residence_area_type</th>\n",
       "      <th>premium</th>\n",
       "      <th>renewal</th>\n",
       "      <th>target</th>\n",
       "    </tr>\n",
       "    <tr>\n",
       "      <th>id</th>\n",
       "      <th></th>\n",
       "      <th></th>\n",
       "      <th></th>\n",
       "      <th></th>\n",
       "      <th></th>\n",
       "      <th></th>\n",
       "      <th></th>\n",
       "      <th></th>\n",
       "      <th></th>\n",
       "      <th></th>\n",
       "      <th></th>\n",
       "      <th></th>\n",
       "      <th></th>\n",
       "    </tr>\n",
       "  </thead>\n",
       "  <tbody>\n",
       "    <tr>\n",
       "      <th>67251</th>\n",
       "      <td>-0.566010</td>\n",
       "      <td>-0.393515</td>\n",
       "      <td>-0.056863</td>\n",
       "      <td>-0.359383</td>\n",
       "      <td>-0.179012</td>\n",
       "      <td>-0.192199</td>\n",
       "      <td>0.185494</td>\n",
       "      <td>0.799920</td>\n",
       "      <td>3</td>\n",
       "      <td>1</td>\n",
       "      <td>0.305851</td>\n",
       "      <td>1</td>\n",
       "      <td>1</td>\n",
       "    </tr>\n",
       "    <tr>\n",
       "      <th>86418</th>\n",
       "      <td>-0.876328</td>\n",
       "      <td>0.869375</td>\n",
       "      <td>-0.082036</td>\n",
       "      <td>-0.359383</td>\n",
       "      <td>-0.179012</td>\n",
       "      <td>-0.192199</td>\n",
       "      <td>0.203072</td>\n",
       "      <td>1.766916</td>\n",
       "      <td>1</td>\n",
       "      <td>1</td>\n",
       "      <td>-0.364247</td>\n",
       "      <td>1</td>\n",
       "      <td>1</td>\n",
       "    </tr>\n",
       "    <tr>\n",
       "      <th>101134</th>\n",
       "      <td>-0.840110</td>\n",
       "      <td>0.587730</td>\n",
       "      <td>-0.214059</td>\n",
       "      <td>-0.359383</td>\n",
       "      <td>-0.179012</td>\n",
       "      <td>-0.192199</td>\n",
       "      <td>0.159926</td>\n",
       "      <td>-0.747272</td>\n",
       "      <td>0</td>\n",
       "      <td>1</td>\n",
       "      <td>-0.364247</td>\n",
       "      <td>1</td>\n",
       "      <td>1</td>\n",
       "    </tr>\n",
       "    <tr>\n",
       "      <th>55058</th>\n",
       "      <td>-0.498859</td>\n",
       "      <td>-1.024576</td>\n",
       "      <td>0.124034</td>\n",
       "      <td>-0.359383</td>\n",
       "      <td>-0.179012</td>\n",
       "      <td>-0.192199</td>\n",
       "      <td>0.207866</td>\n",
       "      <td>-0.747272</td>\n",
       "      <td>2</td>\n",
       "      <td>1</td>\n",
       "      <td>1.422680</td>\n",
       "      <td>1</td>\n",
       "      <td>1</td>\n",
       "    </tr>\n",
       "    <tr>\n",
       "      <th>2632</th>\n",
       "      <td>2.047431</td>\n",
       "      <td>-1.513183</td>\n",
       "      <td>-0.317607</td>\n",
       "      <td>-0.359383</td>\n",
       "      <td>-0.179012</td>\n",
       "      <td>-0.192199</td>\n",
       "      <td>0.235033</td>\n",
       "      <td>-1.520869</td>\n",
       "      <td>0</td>\n",
       "      <td>1</td>\n",
       "      <td>-0.810978</td>\n",
       "      <td>1</td>\n",
       "      <td>1</td>\n",
       "    </tr>\n",
       "  </tbody>\n",
       "</table>\n",
       "</div>"
      ],
      "text/plain": [
       "        perc_premium_paid_by_cash_credit  age_in_days    Income  \\\n",
       "id                                                                \n",
       "67251                          -0.566010    -0.393515 -0.056863   \n",
       "86418                          -0.876328     0.869375 -0.082036   \n",
       "101134                         -0.840110     0.587730 -0.214059   \n",
       "55058                          -0.498859    -1.024576  0.124034   \n",
       "2632                            2.047431    -1.513183 -0.317607   \n",
       "\n",
       "        Count_3-6_months_late  Count_6-12_months_late  \\\n",
       "id                                                      \n",
       "67251               -0.359383               -0.179012   \n",
       "86418               -0.359383               -0.179012   \n",
       "101134              -0.359383               -0.179012   \n",
       "55058               -0.359383               -0.179012   \n",
       "2632                -0.359383               -0.179012   \n",
       "\n",
       "        Count_more_than_12_months_late  application_underwriting_score  \\\n",
       "id                                                                       \n",
       "67251                        -0.192199                        0.185494   \n",
       "86418                        -0.192199                        0.203072   \n",
       "101134                       -0.192199                        0.159926   \n",
       "55058                        -0.192199                        0.207866   \n",
       "2632                         -0.192199                        0.235033   \n",
       "\n",
       "        no_of_premiums_paid  sourcing_channel  residence_area_type   premium  \\\n",
       "id                                                                             \n",
       "67251              0.799920                 3                    1  0.305851   \n",
       "86418              1.766916                 1                    1 -0.364247   \n",
       "101134            -0.747272                 0                    1 -0.364247   \n",
       "55058             -0.747272                 2                    1  1.422680   \n",
       "2632              -1.520869                 0                    1 -0.810978   \n",
       "\n",
       "        renewal  target  \n",
       "id                       \n",
       "67251         1       1  \n",
       "86418         1       1  \n",
       "101134        1       1  \n",
       "55058         1       1  \n",
       "2632          1       1  "
      ]
     },
     "execution_count": 148,
     "metadata": {},
     "output_type": "execute_result"
    }
   ],
   "source": [
    "df.head()"
   ]
  },
  {
   "cell_type": "code",
   "execution_count": 149,
   "metadata": {
    "extensions": {
     "jupyter_dashboards": {
      "version": 1,
      "views": {
       "grid_default": {
        "hidden": true
       },
       "report_default": {}
      }
     }
    }
   },
   "outputs": [],
   "source": [
    "#one_hot_encoded_df = pd.get_dummies(object_df[object_columns_final_nz_index])\n",
    "#object_columns_final = one_hot_encoded_df.columns"
   ]
  },
  {
   "cell_type": "code",
   "execution_count": 150,
   "metadata": {
    "extensions": {
     "jupyter_dashboards": {
      "version": 1,
      "views": {
       "grid_default": {
        "hidden": true
       },
       "report_default": {
        "hidden": true
       }
      }
     }
    }
   },
   "outputs": [],
   "source": [
    "# Extract features\n",
    "target_column = ['target']\n",
    "float_columns = df[scale_columns_final_nz].columns\n",
    "cat_columns = object_df[object_columns_final_nz].columns\n",
    "final = pd.concat([object_df[object_columns_final_nz],df[scale_columns_final_nz]],axis=1)\n",
    "# Extract data \n",
    "train_float_features = df[float_columns]\n",
    "train_cat_features = df[cat_columns]\n",
    "\n",
    "#train_int_features = train_df[int_columns]\n",
    "#print(train_cat_features.shape)\n",
    "#print(train_float_features.shape)\n",
    "\n",
    "#print(float_columns)\n",
    "#print(cat_columns)\n",
    "#print(final.columns)"
   ]
  },
  {
   "cell_type": "code",
   "execution_count": 151,
   "metadata": {
    "extensions": {
     "jupyter_dashboards": {
      "version": 1,
      "views": {
       "grid_default": {
        "hidden": true
       },
       "report_default": {
        "hidden": true
       }
      }
     }
    }
   },
   "outputs": [],
   "source": [
    "from sklearn.preprocessing import LabelEncoder\n",
    "# Label Encoding:\n",
    "#train_cat_features_ver2 = pd.get_dummies(train_cat_features, columns=['Destination_Type','Type_of_Cab'])\n",
    "if list(train_cat_features)!= []:\n",
    "    train_cat_features_ver2 = train_cat_features.apply(LabelEncoder().fit_transform)\n",
    "else:\n",
    "    pass"
   ]
  },
  {
   "cell_type": "code",
   "execution_count": 152,
   "metadata": {
    "extensions": {
     "jupyter_dashboards": {
      "version": 1,
      "views": {
       "grid_default": {
        "hidden": true
       },
       "report_default": {
        "hidden": true
       }
      }
     }
    }
   },
   "outputs": [],
   "source": [
    "scale_columns_final_nz_2 = df[scale_columns_final_nz]\n",
    "#### Finalize X & Y\n",
    "if list(train_cat_features)== []:\n",
    "    train_transformed_features = scale_columns_final_nz_2\n",
    "else:\n",
    "    train_transformed_features = np.concatenate((train_cat_features_ver2,scale_columns_final_nz_2),axis=1)\n"
   ]
  },
  {
   "cell_type": "code",
   "execution_count": 153,
   "metadata": {
    "extensions": {
     "jupyter_dashboards": {
      "version": 1,
      "views": {
       "grid_default": {
        "hidden": true
       },
       "report_default": {
        "hidden": true
       }
      }
     }
    }
   },
   "outputs": [],
   "source": [
    "#train_transformed_features = np.concatenate((temp_1,train_int_features),axis=1)\n",
    "train_transformed_features = pd.DataFrame(data=train_transformed_features)"
   ]
  },
  {
   "cell_type": "code",
   "execution_count": 154,
   "metadata": {
    "extensions": {
     "jupyter_dashboards": {
      "version": 1,
      "views": {
       "grid_default": {
        "hidden": true
       },
       "report_default": {
        "hidden": true
       }
      }
     }
    }
   },
   "outputs": [],
   "source": [
    "labels = df[target_column].values.ravel()\n",
    "le= sklearn.preprocessing.LabelEncoder()\n",
    "le.fit(labels)\n",
    "labels = le.transform(labels)\n",
    "class_names = list(le.classes_)\n",
    "target_names = np.array(class_names, dtype=str)"
   ]
  },
  {
   "cell_type": "code",
   "execution_count": 155,
   "metadata": {
    "extensions": {
     "jupyter_dashboards": {
      "version": 1,
      "views": {
       "grid_default": {
        "hidden": true
       },
       "report_default": {
        "hidden": true
       }
      }
     }
    }
   },
   "outputs": [],
   "source": [
    "array = train_transformed_features.values\n",
    "number_of_features = len(array[0])\n",
    "X = array[:,0:number_of_features]\n",
    "#Y = train_target"
   ]
  },
  {
   "cell_type": "code",
   "execution_count": 156,
   "metadata": {},
   "outputs": [
    {
     "data": {
      "text/plain": [
       "(79853, 9)"
      ]
     },
     "execution_count": 156,
     "metadata": {},
     "output_type": "execute_result"
    }
   ],
   "source": [
    "X.shape"
   ]
  },
  {
   "cell_type": "code",
   "execution_count": 157,
   "metadata": {
    "extensions": {
     "jupyter_dashboards": {
      "version": 1,
      "views": {
       "grid_default": {
        "hidden": true
       },
       "report_default": {
        "hidden": true
       }
      }
     }
    }
   },
   "outputs": [],
   "source": [
    "validation_size = 0.3\n",
    "seed = 7\n",
    "from imblearn.over_sampling import SMOTE\n",
    "from sklearn.model_selection import train_test_split\n",
    "\n",
    "if keyword == 'Force balance':\n",
    "    training_features, test_features,\\\n",
    "    training_target, test_target = train_test_split(X, labels, test_size = validation_size, random_state=seed)\n",
    "    fig_length= training_features.shape[1]\n",
    "elif keyword == 'Minority oversampling':\n",
    "    training_features, test_features,\\\n",
    "    training_target, test_target, = train_test_split(X, labels, test_size = validation_size, random_state=seed)\n",
    "    fig_length= training_features.shape[1]\n",
    "    X_train, X_val, y_train, y_val = train_test_split(training_features, training_target, test_size = .1, random_state=12)\n",
    "    #Using smote to increase the number of under-represented class\n",
    "    sm = SMOTE(random_state = 12, ratio = 'minority')\n",
    "    training_features, training_target = sm.fit_sample(X_train, y_train)\n",
    "else:# as is no change in sampling\n",
    "    training_features, test_features,\\\n",
    "    training_target, test_target, = train_test_split(X, labels, test_size = validation_size, random_state=seed)\n",
    "    fig_length= training_features.shape[1]\n",
    "    "
   ]
  },
  {
   "cell_type": "code",
   "execution_count": 158,
   "metadata": {
    "extensions": {
     "jupyter_dashboards": {
      "version": 1,
      "views": {
       "grid_default": {
        "col": 0,
        "height": 32,
        "hidden": true,
        "row": 18,
        "width": 4
       },
       "report_default": {}
      }
     }
    }
   },
   "outputs": [
    {
     "data": {
      "text/plain": [
       "\"# Extract features\\ntarget_column2 = ['target']\\nfloat_columns2 = df[scale_columns_final_nz].columns\\ncat_columns2 = one_hot_encoded_df.columns\\nfinal2 = pd.concat([one_hot_encoded_df,df[scale_columns_final_nz]],axis=1)\\n# Extract data \\ntrain_float_features2 = df[float_columns]\\ntrain_cat_features2 = one_hot_encoded_df[cat_columns2]\\n\\nfrom sklearn.preprocessing import LabelEncoder\\n# Label Encoding:\\n#train_cat_features_ver2 = pd.get_dummies(train_cat_features, columns=['Destination_Type','Type_of_Cab'])\\nif list(train_cat_features2)!= []:\\n    train_cat_features_ver22 = train_cat_features2.apply(LabelEncoder().fit_transform)\\nelse:\\n    pass\\n\\nscale_columns_final_nz_22 = df[scale_columns_final_nz]\\n#### Finalize X & Y\\nif list(train_cat_features2)== []:\\n    train_transformed_features2 = scale_columns_final_nz_22\\nelse:\\n    train_transformed_features2 = np.concatenate((train_cat_features_ver22,scale_columns_final_nz_22),axis=1)\\n    \\n#train_transformed_features = np.concatenate((temp_1,train_int_features),axis=1)\\ntrain_transformed_features2 = pd.DataFrame(data=train_transformed_features2)\\n\\narray2 = train_transformed_features2.values\\nnumber_of_features2 = len(array[0])\\nX2 = array[:,0:number_of_features2]\\n#Y = train_target\\n\\nvalidation_size = 0.3\\nseed = 7\\nfrom imblearn.over_sampling import SMOTE\\nfrom sklearn.model_selection import train_test_split\\n\\nif keyword == 'Force balance':\\n    training_features2, test_features2,    training_target2, test_target2 = train_test_split(X2, labels, test_size = validation_size, random_state=seed)\\n    fig_length= training_features.shape[1]\\nelif keyword == 'Minority oversampling':\\n    training_features2, test_features2,    training_target2, test_target2, = train_test_split(X2, labels, test_size = validation_size, random_state=seed)\\n    fig_length= training_features.shape[1]\\n    X_train2, X_val2, y_train2, y_val2 = train_test_split(training_features2, training_target2, test_size = .1, random_state=12)\\n    #Using smote to increase the number of under-represented class\\n    sm = SMOTE(random_state = 12, ratio = 'minority')\\n    training_features2, training_target2 = sm.fit_sample(X_train2, y_train2)\\nelse:# as is no change in sampling\\n    training_features2, test_features2,    training_target2, test_target2, = train_test_split(X2, labels, test_size = validation_size, random_state=seed)\\n    fig_length= training_features2.shape[1]\\n\""
      ]
     },
     "execution_count": 158,
     "metadata": {},
     "output_type": "execute_result"
    }
   ],
   "source": [
    "'''# Extract features\n",
    "target_column2 = ['target']\n",
    "float_columns2 = df[scale_columns_final_nz].columns\n",
    "cat_columns2 = one_hot_encoded_df.columns\n",
    "final2 = pd.concat([one_hot_encoded_df,df[scale_columns_final_nz]],axis=1)\n",
    "# Extract data \n",
    "train_float_features2 = df[float_columns]\n",
    "train_cat_features2 = one_hot_encoded_df[cat_columns2]\n",
    "\n",
    "from sklearn.preprocessing import LabelEncoder\n",
    "# Label Encoding:\n",
    "#train_cat_features_ver2 = pd.get_dummies(train_cat_features, columns=['Destination_Type','Type_of_Cab'])\n",
    "if list(train_cat_features2)!= []:\n",
    "    train_cat_features_ver22 = train_cat_features2.apply(LabelEncoder().fit_transform)\n",
    "else:\n",
    "    pass\n",
    "\n",
    "scale_columns_final_nz_22 = df[scale_columns_final_nz]\n",
    "#### Finalize X & Y\n",
    "if list(train_cat_features2)== []:\n",
    "    train_transformed_features2 = scale_columns_final_nz_22\n",
    "else:\n",
    "    train_transformed_features2 = np.concatenate((train_cat_features_ver22,scale_columns_final_nz_22),axis=1)\n",
    "    \n",
    "#train_transformed_features = np.concatenate((temp_1,train_int_features),axis=1)\n",
    "train_transformed_features2 = pd.DataFrame(data=train_transformed_features2)\n",
    "\n",
    "array2 = train_transformed_features2.values\n",
    "number_of_features2 = len(array[0])\n",
    "X2 = array[:,0:number_of_features2]\n",
    "#Y = train_target\n",
    "\n",
    "validation_size = 0.3\n",
    "seed = 7\n",
    "from imblearn.over_sampling import SMOTE\n",
    "from sklearn.model_selection import train_test_split\n",
    "\n",
    "if keyword == 'Force balance':\n",
    "    training_features2, test_features2,\\\n",
    "    training_target2, test_target2 = train_test_split(X2, labels, test_size = validation_size, random_state=seed)\n",
    "    fig_length= training_features.shape[1]\n",
    "elif keyword == 'Minority oversampling':\n",
    "    training_features2, test_features2,\\\n",
    "    training_target2, test_target2, = train_test_split(X2, labels, test_size = validation_size, random_state=seed)\n",
    "    fig_length= training_features.shape[1]\n",
    "    X_train2, X_val2, y_train2, y_val2 = train_test_split(training_features2, training_target2, test_size = .1, random_state=12)\n",
    "    #Using smote to increase the number of under-represented class\n",
    "    sm = SMOTE(random_state = 12, ratio = 'minority')\n",
    "    training_features2, training_target2 = sm.fit_sample(X_train2, y_train2)\n",
    "else:# as is no change in sampling\n",
    "    training_features2, test_features2,\\\n",
    "    training_target2, test_target2, = train_test_split(X2, labels, test_size = validation_size, random_state=seed)\n",
    "    fig_length= training_features2.shape[1]\n",
    "'''    "
   ]
  },
  {
   "cell_type": "code",
   "execution_count": 159,
   "metadata": {
    "extensions": {
     "jupyter_dashboards": {
      "version": 1,
      "views": {
       "grid_default": {
        "hidden": true
       },
       "report_default": {}
      }
     }
    }
   },
   "outputs": [],
   "source": [
    "#categorical_names = {}\n",
    "#for feature in cat_columns2:\n",
    "#    le = sklearn.preprocessing.LabelEncoder()\n",
    "#    le.fit(one_hot_encoded_df.loc[:, feature])\n",
    "#    one_hot_encoded_df.loc[:, feature] = le.transform(one_hot_encoded_df.loc[:, feature])\n",
    "#    categorical_names[feature] = le.classes_"
   ]
  },
  {
   "cell_type": "code",
   "execution_count": 160,
   "metadata": {
    "extensions": {
     "jupyter_dashboards": {
      "version": 1,
      "views": {
       "grid_default": {
        "hidden": true
       },
       "report_default": {
        "hidden": true
       }
      }
     }
    }
   },
   "outputs": [],
   "source": [
    "#keyword = 'Force balance'\n",
    "#keyword = 'Minority oversampling'\n",
    "#keyword = ''#'Minority oversampling'"
   ]
  },
  {
   "cell_type": "code",
   "execution_count": 161,
   "metadata": {
    "extensions": {
     "jupyter_dashboards": {
      "version": 1,
      "views": {
       "grid_default": {
        "hidden": true
       },
       "report_default": {
        "hidden": true
       }
      }
     }
    }
   },
   "outputs": [],
   "source": [
    "#training_features.shape, test_features.shape, training_target.shape, test_target.shape"
   ]
  },
  {
   "cell_type": "code",
   "execution_count": 162,
   "metadata": {
    "extensions": {
     "jupyter_dashboards": {
      "version": 1,
      "views": {
       "grid_default": {
        "hidden": true
       },
       "report_default": {
        "hidden": true
       }
      }
     }
    }
   },
   "outputs": [],
   "source": [
    "#'''# Split into training and validation set\n",
    "#validation_size = 0.3\n",
    "#seed = 7\n",
    "#X_train, X_validation, Y_train, Y_validation = cross_validation.train_test_split(X, Y, test_size=validation_size, random_state=seed)\n",
    "\n",
    "#from sklearn.model_selection import train_test_split\n",
    "#training_features, test_features,\\\n",
    "#training_target, test_target, = train_test_split(X, labels, test_size = validation_size, random_state=seed)\n",
    "#fig_length= training_features.shape[1]\n",
    "#training_features.shape, test_features.shape, training_target.shape, test_target.shape\n",
    "#'''\n"
   ]
  },
  {
   "cell_type": "code",
   "execution_count": 163,
   "metadata": {
    "extensions": {
     "jupyter_dashboards": {
      "version": 1,
      "views": {
       "grid_default": {
        "hidden": true
       },
       "report_default": {
        "hidden": true
       }
      }
     }
    }
   },
   "outputs": [],
   "source": [
    "#from imblearn.over_sampling import SMOTE\n",
    "\n",
    "#X_train, X_val, y_train, y_val = train_test_split(training_features, training_target, test_size = .1, random_state=12)\n",
    "\n",
    "# Using smote to increase the number of under-represented class\n",
    "#sm = SMOTE(random_state = 12, ratio = 'minority')\n",
    "\n",
    "#X_train_res, y_train_res = sm.fit_sample(X_train, y_train)\n",
    "#X_train_res.shape, y_train_res.shape, X_val.shape, y_val.shape"
   ]
  },
  {
   "cell_type": "code",
   "execution_count": 164,
   "metadata": {
    "extensions": {
     "jupyter_dashboards": {
      "version": 1,
      "views": {
       "grid_default": {
        "hidden": true
       },
       "report_default": {
        "hidden": true
       }
      }
     }
    }
   },
   "outputs": [],
   "source": [
    "# import metrics for model evaluation\n",
    "import keras \n",
    "from sklearn.metrics import recall_score,accuracy_score,confusion_matrix,classification_report,precision_score\n",
    "from sklearn.metrics import cohen_kappa_score\n",
    "from sklearn.model_selection import cross_val_score\n",
    "#from keras.wrappers.scikit_learn import KerasClassifier\n",
    "# create function to evaluate model performance\n",
    "\n",
    "def evaluate(model, X_test, y_test):\n",
    "    y_pred = model.predict(X_test)\n",
    "    accuracy = accuracy_score(y_test,y_pred)\n",
    "    cohen_kappa = cohen_kappa_score(y_test, y_pred, sample_weight=None)\n",
    "    recall = recall_score(y_test,y_pred)\n",
    "    matrix = confusion_matrix(y_test, y_pred)\n",
    "    tn, fp, fn, tp = confusion_matrix(y_test, y_pred).ravel()\n",
    "    report = classification_report(y_test, y_pred)\n",
    "    print(\"accuracy :\" +str(accuracy))\n",
    "    print(\"cohen_kappa :\" +str(cohen_kappa))\n",
    "    print(\"recall :\" +str(recall))\n",
    "    print(\" tn, fp, fn, tp :\" )\n",
    "    print(tn, fp, fn, tp)\n",
    "    print(\"matrix :\")\n",
    "    print(matrix)\n",
    "    print(\"report :\")\n",
    "    print(report)\n",
    "    return accuracy"
   ]
  },
  {
   "cell_type": "code",
   "execution_count": 165,
   "metadata": {},
   "outputs": [],
   "source": [
    "import keras\n",
    "from keras.models import Sequential\n",
    "from keras.layers import Dense\n",
    "from keras.layers import Dropout\n",
    "from keras.wrappers.scikit_learn import KerasClassifier\n"
   ]
  },
  {
   "cell_type": "code",
   "execution_count": 166,
   "metadata": {
    "extensions": {
     "jupyter_dashboards": {
      "version": 1,
      "views": {
       "grid_default": {
        "hidden": true
       },
       "report_default": {
        "hidden": true
       }
      }
     }
    }
   },
   "outputs": [],
   "source": [
    "from keras.models import Sequential\n",
    "from keras.layers import Dense,Dropout, Activation\n",
    "\n",
    "# fix the input dimenstion to number of feature terms\n",
    "input_dimenation = int(training_features.shape[1])\n",
    "\n",
    "# create the output dimenstion\n",
    "output = 1\n",
    "\n",
    "# create the batch size\n",
    "batch = int(round(df.shape[0]/10,0))\n",
    "\n",
    "# epoch\n",
    "epoch = 10\n",
    "\n",
    "\n",
    "\n",
    "# Function to create model, required for KerasClassifier\n",
    "def baseline_model():\n",
    "# create model\n",
    "    model = Sequential()\n",
    "    model.add(Dense(input_dimenation, input_dim=input_dimenation, activation='relu'))\n",
    "    model.add(Dense(output, activation='sigmoid'))\n",
    "    # Compile model\n",
    "    model.compile(loss='binary_crossentropy', optimizer='adam', metrics=['accuracy'])\n",
    "    return model"
   ]
  },
  {
   "cell_type": "code",
   "execution_count": 167,
   "metadata": {
    "extensions": {
     "jupyter_dashboards": {
      "version": 1,
      "views": {
       "grid_default": {
        "col": 8,
        "height": 15,
        "hidden": true,
        "row": 12,
        "width": 4
       },
       "report_default": {
        "hidden": false
       }
      }
     }
    }
   },
   "outputs": [
    {
     "name": "stderr",
     "output_type": "stream",
     "text": [
      "/home/xavient/anaconda3/lib/python3.6/site-packages/sklearn/preprocessing/label.py:151: DeprecationWarning: The truth value of an empty array is ambiguous. Returning False, but in future this will result in an error. Use `array.size > 0` to check that an array is not empty.\n",
      "  if diff:\n",
      "/home/xavient/anaconda3/lib/python3.6/site-packages/sklearn/preprocessing/label.py:151: DeprecationWarning: The truth value of an empty array is ambiguous. Returning False, but in future this will result in an error. Use `array.size > 0` to check that an array is not empty.\n",
      "  if diff:\n",
      "/home/xavient/anaconda3/lib/python3.6/site-packages/sklearn/preprocessing/label.py:151: DeprecationWarning: The truth value of an empty array is ambiguous. Returning False, but in future this will result in an error. Use `array.size > 0` to check that an array is not empty.\n",
      "  if diff:\n",
      "/home/xavient/anaconda3/lib/python3.6/site-packages/sklearn/preprocessing/label.py:151: DeprecationWarning: The truth value of an empty array is ambiguous. Returning False, but in future this will result in an error. Use `array.size > 0` to check that an array is not empty.\n",
      "  if diff:\n",
      "/home/xavient/anaconda3/lib/python3.6/site-packages/sklearn/preprocessing/label.py:151: DeprecationWarning: The truth value of an empty array is ambiguous. Returning False, but in future this will result in an error. Use `array.size > 0` to check that an array is not empty.\n",
      "  if diff:\n",
      "/home/xavient/anaconda3/lib/python3.6/site-packages/sklearn/preprocessing/label.py:151: DeprecationWarning: The truth value of an empty array is ambiguous. Returning False, but in future this will result in an error. Use `array.size > 0` to check that an array is not empty.\n",
      "  if diff:\n",
      "/home/xavient/anaconda3/lib/python3.6/site-packages/sklearn/preprocessing/label.py:151: DeprecationWarning: The truth value of an empty array is ambiguous. Returning False, but in future this will result in an error. Use `array.size > 0` to check that an array is not empty.\n",
      "  if diff:\n",
      "/home/xavient/anaconda3/lib/python3.6/site-packages/sklearn/preprocessing/label.py:151: DeprecationWarning: The truth value of an empty array is ambiguous. Returning False, but in future this will result in an error. Use `array.size > 0` to check that an array is not empty.\n",
      "  if diff:\n",
      "/home/xavient/anaconda3/lib/python3.6/site-packages/sklearn/preprocessing/label.py:151: DeprecationWarning: The truth value of an empty array is ambiguous. Returning False, but in future this will result in an error. Use `array.size > 0` to check that an array is not empty.\n",
      "  if diff:\n",
      "/home/xavient/anaconda3/lib/python3.6/site-packages/sklearn/preprocessing/label.py:151: DeprecationWarning: The truth value of an empty array is ambiguous. Returning False, but in future this will result in an error. Use `array.size > 0` to check that an array is not empty.\n",
      "  if diff:\n"
     ]
    },
    {
     "name": "stdout",
     "output_type": "stream",
     "text": [
      "('XGB', 0.7274302442271872, 0.08714583269418547)\n",
      "('RF', 0.9353705119875017, 0.03222433416813287)\n",
      "('ADA', 0.7139347423148599, 0.10560839613344283)\n",
      "('TF', 0.5836558993649084, 0.13169220187861627)\n"
     ]
    },
    {
     "data": {
      "image/png": "[encoded data removed]",
      "text/plain": [
       "<matplotlib.figure.Figure at 0x7f2ec167b8d0>"
      ]
     },
     "metadata": {},
     "output_type": "display_data"
    }
   ],
   "source": [
    "from sklearn.tree import DecisionTreeClassifier\n",
    "from sklearn.ensemble import RandomForestClassifier,AdaBoostClassifier,GradientBoostingClassifier\n",
    "from sklearn.linear_model import LogisticRegression\n",
    "import xgboost as xgb\n",
    "from xgboost.sklearn import XGBClassifier\n",
    "from sklearn.model_selection import KFold\n",
    "from keras.wrappers.scikit_learn import KerasClassifier\n",
    "\n",
    "from sklearn import model_selection\n",
    "import matplotlib.pyplot as plt\n",
    "\n",
    "# generate list of models  \n",
    "models = []\n",
    "models.append(('XGB', XGBClassifier(n_estimators = 10,learning_rate=.1)))\n",
    "models.append(('RF', RandomForestClassifier(n_estimators = 10 ,random_state=21)))\n",
    "#models.append(('DT', DecisionTreeClassifier(splitter='random', random_state=21)))\n",
    "models.append(('ADA', AdaBoostClassifier(n_estimators = 10,learning_rate=.1, random_state=21)))\n",
    "#models.append(('LM', LogisticRegression(multi_class = 'ovr', solver='saga', random_state=21)))\n",
    "models.append(('TF', KerasClassifier(build_fn=baseline_model, epochs=epoch, batch_size=batch, verbose=0))) \n",
    "\n",
    "# check model performance\n",
    "results = []\n",
    "names = []\n",
    "seed = 7\n",
    "msgall = []\n",
    "scoring='accuracy'\n",
    "for name, model in models:\n",
    "    kfold = model_selection.KFold(n_splits = 10, random_state=seed)\n",
    "    #cv_results = cross_val_score(model, X_train_res, y_train_res, cv=kfold, scoring = scoring)\n",
    "    cv_results = cross_val_score(model, training_features, training_target, cv=kfold, scoring = scoring)\n",
    "    results.append(cv_results)\n",
    "    names.append(name)\n",
    "    msg = (name, cv_results.mean(), cv_results.std())\n",
    "    print (msg)\n",
    "    msgall.append(msg)\n",
    "\n",
    "# compare algorithms\n",
    "fig = plt.figure()\n",
    "fig.suptitle(\"algorithm comparision\")\n",
    "ax = fig.add_subplot(111)\n",
    "plt.boxplot(results)\n",
    "ax.set_xticklabels(names)\n",
    "plt.show()\n"
   ]
  },
  {
   "cell_type": "code",
   "execution_count": 168,
   "metadata": {
    "extensions": {
     "jupyter_dashboards": {
      "version": 1,
      "views": {
       "grid_default": {
        "hidden": true
       },
       "report_default": {
        "hidden": true
       }
      }
     }
    }
   },
   "outputs": [],
   "source": [
    "# import ensemble models\n",
    "\n",
    "from sklearn.ensemble import RandomForestClassifier,AdaBoostClassifier\n",
    "from pprint import pprint\n",
    "from sklearn.model_selection import RandomizedSearchCV"
   ]
  },
  {
   "cell_type": "code",
   "execution_count": 169,
   "metadata": {
    "extensions": {
     "jupyter_dashboards": {
      "version": 1,
      "views": {
       "grid_default": {
        "hidden": true
       },
       "report_default": {
        "hidden": true
       }
      }
     }
    }
   },
   "outputs": [],
   "source": [
    "# First create the base model to tune\n",
    "\n",
    "rf = RandomForestClassifier()\n",
    "\n",
    "# Number of trees in random forest\n",
    "n_estimators = [int(x) for x in np.linspace(start = 200, stop = 2000, num = 10)]\n",
    "# Number of features to consider at every split\n",
    "max_features = ['auto', 'sqrt']\n",
    "# Maximum number of levels in tree\n",
    "max_depth = [int(x) for x in np.linspace(10, 110, num = 11)]\n",
    "max_depth.append(None)\n",
    "# Minimum number of samples required to split a node\n",
    "min_samples_split = [2, 5, 10]\n",
    "# Minimum number of samples required at each leaf node\n",
    "min_samples_leaf = [1, 2, 4]\n",
    "# Method of selecting samples for training each tree\n",
    "bootstrap = [True, False]\n",
    "random_state = [21]\n",
    "\n",
    "# Create the random grid\n",
    "\n",
    "random_grid = {'n_estimators': n_estimators,\n",
    "               'max_features': max_features,\n",
    "               'max_depth': max_depth,\n",
    "               'min_samples_split': min_samples_split,\n",
    "               'min_samples_leaf': min_samples_leaf,\n",
    "               'bootstrap': bootstrap,\n",
    "               'random_state':random_state}\n",
    "#pprint(random_grid)"
   ]
  },
  {
   "cell_type": "code",
   "execution_count": 170,
   "metadata": {
    "extensions": {
     "jupyter_dashboards": {
      "version": 1,
      "views": {
       "grid_default": {
        "hidden": true
       },
       "report_default": {
        "hidden": true
       }
      }
     }
    }
   },
   "outputs": [
    {
     "data": {
      "text/plain": [
       "RandomizedSearchCV(cv=3, error_score='raise',\n",
       "          estimator=RandomForestClassifier(bootstrap=True, class_weight=None, criterion='gini',\n",
       "            max_depth=None, max_features='auto', max_leaf_nodes=None,\n",
       "            min_impurity_decrease=0.0, min_impurity_split=None,\n",
       "            min_samples_leaf=1, min_samples_split=2,\n",
       "            min_weight_fraction_leaf=0.0, n_estimators=10, n_jobs=1,\n",
       "            oob_score=False, random_state=None, verbose=0,\n",
       "            warm_start=False),\n",
       "          fit_params=None, iid=True, n_iter=5, n_jobs=-1,\n",
       "          param_distributions={'n_estimators': [200, 400, 600, 800, 1000, 1200, 1400, 1600, 1800, 2000], 'max_features': ['auto', 'sqrt'], 'max_depth': [10, 20, 30, 40, 50, 60, 70, 80, 90, 100, 110, None], 'min_samples_split': [2, 5, 10], 'min_samples_leaf': [1, 2, 4], 'bootstrap': [True, False], 'random_state': [21]},\n",
       "          pre_dispatch='2*n_jobs', random_state=42, refit=True,\n",
       "          return_train_score='warn', scoring=None, verbose=0)"
      ]
     },
     "execution_count": 170,
     "metadata": {},
     "output_type": "execute_result"
    }
   ],
   "source": [
    "# Random search of parameters, using 10 fold cross validation,\n",
    "# search across 50 different combinations, and use all available cores\n",
    "rf_smote = RandomizedSearchCV(estimator = rf, param_distributions = random_grid, n_iter = 5, cv = 3, verbose=0, random_state=42, n_jobs = -1)\n",
    "# Fit the random search model\n",
    "rf_smote.fit(training_features, training_target)"
   ]
  },
  {
   "cell_type": "code",
   "execution_count": 171,
   "metadata": {
    "extensions": {
     "jupyter_dashboards": {
      "version": 1,
      "views": {
       "grid_default": {
        "col": 0,
        "height": 18,
        "hidden": false,
        "row": 0,
        "width": 4
       },
       "report_default": {
        "hidden": true
       }
      }
     }
    }
   },
   "outputs": [],
   "source": [
    "# Random search of parameters, using 10 fold cross validation,\n",
    "# search across 50 different combinations, and use all available cores\n",
    "#rf_smote2 = RandomizedSearchCV(estimator = rf, param_distributions = random_grid, n_iter = 5, cv = 3, verbose=0, random_state=42, n_jobs = -1)\n",
    "# Fit the random search model\n",
    "#rf_smote2.fit(training_features2, training_target2)"
   ]
  },
  {
   "cell_type": "code",
   "execution_count": 173,
   "metadata": {
    "extensions": {
     "jupyter_dashboards": {
      "version": 1,
      "views": {
       "grid_default": {
        "col": 4,
        "height": 13,
        "hidden": false,
        "row": 4,
        "width": 4
       },
       "report_default": {
        "hidden": true
       }
      }
     }
    }
   },
   "outputs": [
    {
     "name": "stdout",
     "output_type": "stream",
     "text": [
      "accuracy :0.9193104024044081\n",
      "cohen_kappa :0.25617001935338324\n",
      "recall :0.9599769012082445\n",
      " tn, fp, fn, tp :\n",
      "412 1032 901 21611\n",
      "matrix :\n",
      "[[  412  1032]\n",
      " [  901 21611]]\n",
      "report :\n",
      "             precision    recall  f1-score   support\n",
      "\n",
      "          0       0.31      0.29      0.30      1444\n",
      "          1       0.95      0.96      0.96     22512\n",
      "\n",
      "avg / total       0.92      0.92      0.92     23956\n",
      "\n"
     ]
    }
   ],
   "source": [
    "# Check accuracy on test set\n",
    "\n",
    "rf_smote_accuracy = evaluate(rf_smote,test_features,test_target)"
   ]
  },
  {
   "cell_type": "code",
   "execution_count": 174,
   "metadata": {
    "extensions": {
     "jupyter_dashboards": {
      "version": 1,
      "views": {
       "grid_default": {
        "col": 4,
        "height": 7,
        "hidden": true,
        "row": 17,
        "width": 4
       },
       "report_default": {
        "hidden": false
       }
      }
     }
    }
   },
   "outputs": [
    {
     "data": {
      "image/png": "[encoded data removed]",
      "text/plain": [
       "<matplotlib.figure.Figure at 0x7f2ec8531630>"
      ]
     },
     "metadata": {},
     "output_type": "display_data"
    }
   ],
   "source": [
    "# feature importance plots\n",
    "\n",
    "#print(\"rf with SMOTE feature importance\")\n",
    "feature_names=final.columns\n",
    "feature_importance = rf_smote.best_estimator_.feature_importances_\n",
    "sorted_idx = np.argsort(feature_importance)\n",
    "pos = np.arange(sorted_idx.shape[0]) + .5\n",
    "plt.figure(figsize=(10,fig_length/3))\n",
    "plt.barh(pos, feature_importance[sorted_idx], align='center')\n",
    "plt.yticks(pos, feature_names[sorted_idx])\n",
    "feature_names[sorted_idx]\n",
    "plt.show()"
   ]
  },
  {
   "cell_type": "code",
   "execution_count": null,
   "metadata": {
    "extensions": {
     "jupyter_dashboards": {
      "version": 1,
      "views": {
       "grid_default": {
        "hidden": true
       },
       "report_default": {
        "hidden": true
       }
      }
     }
    }
   },
   "outputs": [],
   "source": [
    "# First create the base model to tune\n",
    "\n",
    "ADA = AdaBoostClassifier()\n",
    "\n",
    "# Number of iterations needed\n",
    "n_estimators = [int(x) for x in np.linspace(200, 2000, num = 10)]\n",
    "learning_rate = [0.1, 0.05, 0.02, 0.01]\n",
    "algorithm  = ['SAMME', 'SAMME.R']\n",
    "# Maximum number of levels in tree\n",
    "max_depth = [int(x) for x in np.linspace(10, 110, num = 11)]\n",
    "max_depth.append(None)\n",
    "# Minimum number of samples required at each leaf node\n",
    "min_samples_leaf = [1, 2, 4]\n",
    "random_state = [21]\n",
    "\n",
    "# Create the random grid\n",
    "random_grid_ada = {'n_estimators': n_estimators,\n",
    "                   'learning_rate': learning_rate,\n",
    "                   'algorithm':algorithm,\n",
    " #                 'max_depth': max_depth,\n",
    " #                 'min_samples_leaf': min_samples_leaf,\n",
    "                   'random_state': random_state}\n",
    "#pprint(random_grid_ada)"
   ]
  },
  {
   "cell_type": "code",
   "execution_count": null,
   "metadata": {
    "extensions": {
     "jupyter_dashboards": {
      "version": 1,
      "views": {
       "grid_default": {
        "hidden": true
       },
       "report_default": {
        "hidden": true
       }
      }
     }
    }
   },
   "outputs": [],
   "source": [
    "# First create the base model to tune\n",
    "ada = AdaBoostClassifier()"
   ]
  },
  {
   "cell_type": "code",
   "execution_count": null,
   "metadata": {
    "extensions": {
     "jupyter_dashboards": {
      "version": 1,
      "views": {
       "grid_default": {
        "hidden": true
       },
       "report_default": {
        "hidden": true
       }
      }
     }
    }
   },
   "outputs": [],
   "source": [
    "# Random search of parameters, using 3 fold cross validation,\n",
    "# search across 100 different combinations, and use all available cores\n",
    "ada_smote = RandomizedSearchCV(estimator = ada, param_distributions = random_grid_ada, n_iter = 5, cv = 3, verbose=0, random_state=42, n_jobs = -1)\n",
    "# Fit the random search model\n",
    "ada_smote.fit(training_features, training_target)"
   ]
  },
  {
   "cell_type": "code",
   "execution_count": null,
   "metadata": {
    "extensions": {
     "jupyter_dashboards": {
      "version": 1,
      "views": {
       "grid_default": {
        "hidden": true
       },
       "report_default": {}
      }
     }
    }
   },
   "outputs": [],
   "source": [
    "# Random search of parameters, using 3 fold cross validation,\n",
    "# search across 100 different combinations, and use all available cores\n",
    "#ada_smote2 = RandomizedSearchCV(estimator = ada, param_distributions = random_grid_ada, n_iter = 5, cv = 3, verbose=0, random_state=42, n_jobs = -1)\n",
    "# Fit the random search model\n",
    "#ada_smote2.fit(training_features2, training_target2)"
   ]
  },
  {
   "cell_type": "code",
   "execution_count": null,
   "metadata": {
    "extensions": {
     "jupyter_dashboards": {
      "version": 1,
      "views": {
       "grid_default": {
        "hidden": true
       },
       "report_default": {
        "hidden": true
       }
      }
     }
    }
   },
   "outputs": [],
   "source": [
    "# Check accuracy on test set\n",
    "\n",
    "ada_smote_accuracy = evaluate(ada_smote,test_features,test_target)"
   ]
  },
  {
   "cell_type": "code",
   "execution_count": null,
   "metadata": {
    "extensions": {
     "jupyter_dashboards": {
      "version": 1,
      "views": {
       "grid_default": {
        "hidden": true
       },
       "report_default": {
        "hidden": true
       }
      }
     }
    }
   },
   "outputs": [],
   "source": [
    "# feature importance plots\n",
    "\n",
    "#print(\"ada with SMOTE feature importance\")\n",
    "feature_names=final.columns\n",
    "feature_importance = ada_smote.best_estimator_.feature_importances_\n",
    "sorted_idx = np.argsort(feature_importance)\n",
    "pos = np.arange(sorted_idx.shape[0]) + .5\n",
    "plt.figure(figsize=(10,fig_length/3))\n",
    "plt.barh(pos, feature_importance[sorted_idx], align='center')\n",
    "plt.yticks(pos, feature_names[sorted_idx])\n",
    "feature_names[sorted_idx]\n",
    "plt.show()\n"
   ]
  },
  {
   "cell_type": "code",
   "execution_count": null,
   "metadata": {
    "extensions": {
     "jupyter_dashboards": {
      "version": 1,
      "views": {
       "grid_default": {
        "hidden": true
       },
       "report_default": {
        "hidden": true
       }
      }
     }
    }
   },
   "outputs": [],
   "source": [
    "# Baseline Model on the Sonar Dataset\n",
    "#from sklearn.model_selection import GridSearchCV\n",
    "import numpy as np\n",
    "from pandas import read_csv\n",
    "from keras.models import Sequential\n",
    "from keras.layers import Dense,Dropout, Activation\n",
    "from keras.wrappers.scikit_learn import KerasClassifier\n",
    "from keras.optimizers import SGD\n",
    "from keras.callbacks import ModelCheckpoint\n",
    "from keras.constraints import maxnorm\n",
    "\n",
    "# fix random seed for reproducibility\n",
    "seed = 7\n",
    "np.random.seed(seed)"
   ]
  },
  {
   "cell_type": "code",
   "execution_count": null,
   "metadata": {
    "extensions": {
     "jupyter_dashboards": {
      "version": 1,
      "views": {
       "grid_default": {
        "hidden": true
       },
       "report_default": {
        "hidden": true
       }
      }
     }
    }
   },
   "outputs": [],
   "source": [
    "# fix the input dimenstion to number of feature terms\n",
    "input_dimenation = training_features.shape[1]"
   ]
  },
  {
   "cell_type": "code",
   "execution_count": null,
   "metadata": {
    "extensions": {
     "jupyter_dashboards": {
      "version": 1,
      "views": {
       "grid_default": {
        "hidden": true
       },
       "report_default": {
        "hidden": true
       }
      }
     }
    }
   },
   "outputs": [],
   "source": [
    "# INPUT: model parameters\n",
    "epochs_input = 100\n",
    "batch_size_input = 50"
   ]
  },
  {
   "cell_type": "code",
   "execution_count": null,
   "metadata": {
    "extensions": {
     "jupyter_dashboards": {
      "version": 1,
      "views": {
       "grid_default": {
        "hidden": true
       },
       "report_default": {
        "hidden": true
       }
      }
     }
    }
   },
   "outputs": [],
   "source": [
    "# RandomizedSearchCV to pick hyperparamenters\n",
    "sgd = SGD(lr=0.1, momentum=0.9, decay=0.0, nesterov=False)\n",
    "\n",
    "# create model\n",
    "def create_model():\n",
    "    model = Sequential()\n",
    "    model.add(Dropout(0.2, input_shape=(input_dimenation,)))\n",
    "    model.add(Dense(input_dimenation, input_dim=input_dimenation, kernel_initializer='uniform', activation='relu',kernel_constraint=maxnorm(3)))\n",
    "    model.add(Dropout(0.2))\n",
    "    model.add(Dense(output, kernel_initializer='uniform', activation='sigmoid'))\n",
    "    # Compile model\n",
    "    model.compile(loss='binary_crossentropy', optimizer='sgd', metrics=['accuracy'])\n",
    "    return model"
   ]
  },
  {
   "cell_type": "code",
   "execution_count": null,
   "metadata": {
    "extensions": {
     "jupyter_dashboards": {
      "version": 1,
      "views": {
       "grid_default": {
        "hidden": true
       },
       "report_default": {
        "hidden": true
       }
      }
     }
    }
   },
   "outputs": [],
   "source": [
    "# create model\n",
    "model_smote = KerasClassifier(build_fn = create_model, epochs = epochs_input, batch_size = batch_size_input, verbose=0)\n",
    "# Fit the model\n",
    "model_smote.fit(training_features, training_target)"
   ]
  },
  {
   "cell_type": "code",
   "execution_count": null,
   "metadata": {
    "extensions": {
     "jupyter_dashboards": {
      "version": 1,
      "views": {
       "grid_default": {
        "hidden": true
       },
       "report_default": {}
      }
     }
    }
   },
   "outputs": [],
   "source": [
    "'''# fix the input dimenstion to number of feature terms\n",
    "input_dimenation = training_features2.shape[1]\n",
    "# RandomizedSearchCV to pick hyperparamenters\n",
    "sgd = SGD(lr=0.1, momentum=0.9, decay=0.0, nesterov=False)\n",
    "\n",
    "# create model\n",
    "def create_model2():\n",
    "    model = Sequential()\n",
    "    model.add(Dropout(0.2, input_shape=(input_dimenation,)))\n",
    "    model.add(Dense(input_dimenation, input_dim=input_dimenation, kernel_initializer='uniform', activation='relu',kernel_constraint=maxnorm(3)))\n",
    "    model.add(Dropout(0.2))\n",
    "    model.add(Dense(output, kernel_initializer='uniform', activation='sigmoid'))\n",
    "    # Compile model\n",
    "    model.compile(loss='binary_crossentropy', optimizer='sgd', metrics=['accuracy'])\n",
    "    return model\n",
    "'''"
   ]
  },
  {
   "cell_type": "code",
   "execution_count": null,
   "metadata": {
    "extensions": {
     "jupyter_dashboards": {
      "version": 1,
      "views": {
       "grid_default": {
        "hidden": true
       },
       "report_default": {
        "hidden": true
       }
      }
     }
    }
   },
   "outputs": [],
   "source": [
    "'''# create model\n",
    "model_smote2 = KerasClassifier(build_fn = create_model2, epochs = epochs_input, batch_size = batch_size_input, verbose=0)\n",
    "# Fit the model\n",
    "model_smote2.fit(training_features2, training_target2)\n",
    "'''"
   ]
  },
  {
   "cell_type": "code",
   "execution_count": null,
   "metadata": {
    "extensions": {
     "jupyter_dashboards": {
      "version": 1,
      "views": {
       "grid_default": {
        "hidden": true
       },
       "report_default": {
        "hidden": true
       }
      }
     }
    }
   },
   "outputs": [],
   "source": [
    "# Check accuracy on test set\n",
    "\n",
    "tf_accuracy = evaluate(model_smote,test_features,test_target)"
   ]
  },
  {
   "cell_type": "code",
   "execution_count": 175,
   "metadata": {
    "extensions": {
     "jupyter_dashboards": {
      "version": 1,
      "views": {
       "grid_default": {
        "hidden": true
       },
       "report_default": {
        "hidden": true
       }
      }
     }
    }
   },
   "outputs": [
    {
     "name": "stderr",
     "output_type": "stream",
     "text": [
      "/home/xavient/anaconda3/lib/python3.6/site-packages/sklearn/cross_validation.py:41: DeprecationWarning: This module was deprecated in version 0.18 in favor of the model_selection module into which all the refactored classes and functions are moved. Also note that the interface of the new CV iterators are different from that of this module. This module will be removed in 0.20.\n",
      "  \"This module will be removed in 0.20.\", DeprecationWarning)\n",
      "/home/xavient/anaconda3/lib/python3.6/site-packages/sklearn/grid_search.py:42: DeprecationWarning: This module was deprecated in version 0.18 in favor of the model_selection module into which all the refactored classes and functions are moved. This module will be removed in 0.20.\n",
      "  DeprecationWarning)\n"
     ]
    }
   ],
   "source": [
    "import xgboost as xgb\n",
    "from xgboost.sklearn import XGBClassifier\n",
    "import scipy.stats as st\n",
    "from sklearn.grid_search import RandomizedSearchCV\n",
    "\n",
    "n_estimators = [int(x) for x in np.linspace(200, 2000, num = 10)]\n",
    "learning_rate = [0.1, 0.05, 0.02, 0.01]\n",
    "max_depth = [int(x) for x in np.linspace(1, 10, num = 10)]\n",
    "one_to_left = st.beta(10, 1)  \n",
    "from_zero_positive = st.expon(0, 50)\n",
    "random_state = [21]\n",
    "\n",
    "# Create the random grid\n",
    "\n",
    "# First create the base model to tune\n",
    "n_estimators = [int(x) for x in np.linspace(3, 40, num = 10)]\n",
    "max_depth = [int(x) for x in np.linspace(1, 10, num = 10)]\n",
    "one_to_left = st.beta(10, 1)  \n",
    "from_zero_positive = st.expon(0, 50)\n",
    "random_state=[21]\n",
    "params = {  \n",
    "    \"n_estimators\": n_estimators,\n",
    "    \"learning_rate\": learning_rate,\n",
    "    \"max_depth\": max_depth,\n",
    "    \"learning_rate\": st.uniform(0.05, 0.4),\n",
    "    \"colsample_bytree\": one_to_left,\n",
    "    \"subsample\": one_to_left,\n",
    "    \"gamma\": st.uniform(0, 10),\n",
    "    \"reg_alpha\": from_zero_positive,\n",
    "    \"min_child_weight\": from_zero_positive,\n",
    "    #\"random_state\":random_state\n",
    "}\n",
    "\n",
    "xgbclass = XGBClassifier()#nthreads=-1)  "
   ]
  },
  {
   "cell_type": "code",
   "execution_count": 176,
   "metadata": {
    "extensions": {
     "jupyter_dashboards": {
      "version": 1,
      "views": {
       "grid_default": {
        "hidden": true
       },
       "report_default": {
        "hidden": true
       }
      }
     }
    }
   },
   "outputs": [
    {
     "name": "stderr",
     "output_type": "stream",
     "text": [
      "/home/xavient/anaconda3/lib/python3.6/site-packages/sklearn/preprocessing/label.py:151: DeprecationWarning: The truth value of an empty array is ambiguous. Returning False, but in future this will result in an error. Use `array.size > 0` to check that an array is not empty.\n",
      "  if diff:\n",
      "/home/xavient/anaconda3/lib/python3.6/site-packages/sklearn/preprocessing/label.py:151: DeprecationWarning: The truth value of an empty array is ambiguous. Returning False, but in future this will result in an error. Use `array.size > 0` to check that an array is not empty.\n",
      "  if diff:\n",
      "/home/xavient/anaconda3/lib/python3.6/site-packages/sklearn/preprocessing/label.py:151: DeprecationWarning: The truth value of an empty array is ambiguous. Returning False, but in future this will result in an error. Use `array.size > 0` to check that an array is not empty.\n",
      "  if diff:\n",
      "/home/xavient/anaconda3/lib/python3.6/site-packages/sklearn/preprocessing/label.py:151: DeprecationWarning: The truth value of an empty array is ambiguous. Returning False, but in future this will result in an error. Use `array.size > 0` to check that an array is not empty.\n",
      "  if diff:\n",
      "/home/xavient/anaconda3/lib/python3.6/site-packages/sklearn/preprocessing/label.py:151: DeprecationWarning: The truth value of an empty array is ambiguous. Returning False, but in future this will result in an error. Use `array.size > 0` to check that an array is not empty.\n",
      "  if diff:\n",
      "/home/xavient/anaconda3/lib/python3.6/site-packages/sklearn/preprocessing/label.py:151: DeprecationWarning: The truth value of an empty array is ambiguous. Returning False, but in future this will result in an error. Use `array.size > 0` to check that an array is not empty.\n",
      "  if diff:\n",
      "/home/xavient/anaconda3/lib/python3.6/site-packages/sklearn/preprocessing/label.py:151: DeprecationWarning: The truth value of an empty array is ambiguous. Returning False, but in future this will result in an error. Use `array.size > 0` to check that an array is not empty.\n",
      "  if diff:\n",
      "/home/xavient/anaconda3/lib/python3.6/site-packages/sklearn/preprocessing/label.py:151: DeprecationWarning: The truth value of an empty array is ambiguous. Returning False, but in future this will result in an error. Use `array.size > 0` to check that an array is not empty.\n",
      "  if diff:\n",
      "/home/xavient/anaconda3/lib/python3.6/site-packages/sklearn/preprocessing/label.py:151: DeprecationWarning: The truth value of an empty array is ambiguous. Returning False, but in future this will result in an error. Use `array.size > 0` to check that an array is not empty.\n",
      "  if diff:\n",
      "/home/xavient/anaconda3/lib/python3.6/site-packages/sklearn/preprocessing/label.py:151: DeprecationWarning: The truth value of an empty array is ambiguous. Returning False, but in future this will result in an error. Use `array.size > 0` to check that an array is not empty.\n",
      "  if diff:\n",
      "/home/xavient/anaconda3/lib/python3.6/site-packages/sklearn/preprocessing/label.py:151: DeprecationWarning: The truth value of an empty array is ambiguous. Returning False, but in future this will result in an error. Use `array.size > 0` to check that an array is not empty.\n",
      "  if diff:\n",
      "/home/xavient/anaconda3/lib/python3.6/site-packages/sklearn/preprocessing/label.py:151: DeprecationWarning: The truth value of an empty array is ambiguous. Returning False, but in future this will result in an error. Use `array.size > 0` to check that an array is not empty.\n",
      "  if diff:\n",
      "/home/xavient/anaconda3/lib/python3.6/site-packages/sklearn/preprocessing/label.py:151: DeprecationWarning: The truth value of an empty array is ambiguous. Returning False, but in future this will result in an error. Use `array.size > 0` to check that an array is not empty.\n",
      "  if diff:\n",
      "/home/xavient/anaconda3/lib/python3.6/site-packages/sklearn/preprocessing/label.py:151: DeprecationWarning: The truth value of an empty array is ambiguous. Returning False, but in future this will result in an error. Use `array.size > 0` to check that an array is not empty.\n",
      "  if diff:\n",
      "/home/xavient/anaconda3/lib/python3.6/site-packages/sklearn/preprocessing/label.py:151: DeprecationWarning: The truth value of an empty array is ambiguous. Returning False, but in future this will result in an error. Use `array.size > 0` to check that an array is not empty.\n",
      "  if diff:\n",
      "/home/xavient/anaconda3/lib/python3.6/site-packages/sklearn/preprocessing/label.py:151: DeprecationWarning: The truth value of an empty array is ambiguous. Returning False, but in future this will result in an error. Use `array.size > 0` to check that an array is not empty.\n",
      "  if diff:\n",
      "/home/xavient/anaconda3/lib/python3.6/site-packages/sklearn/preprocessing/label.py:151: DeprecationWarning: The truth value of an empty array is ambiguous. Returning False, but in future this will result in an error. Use `array.size > 0` to check that an array is not empty.\n",
      "  if diff:\n",
      "/home/xavient/anaconda3/lib/python3.6/site-packages/sklearn/preprocessing/label.py:151: DeprecationWarning: The truth value of an empty array is ambiguous. Returning False, but in future this will result in an error. Use `array.size > 0` to check that an array is not empty.\n",
      "  if diff:\n",
      "/home/xavient/anaconda3/lib/python3.6/site-packages/sklearn/preprocessing/label.py:151: DeprecationWarning: The truth value of an empty array is ambiguous. Returning False, but in future this will result in an error. Use `array.size > 0` to check that an array is not empty.\n",
      "  if diff:\n",
      "/home/xavient/anaconda3/lib/python3.6/site-packages/sklearn/preprocessing/label.py:151: DeprecationWarning: The truth value of an empty array is ambiguous. Returning False, but in future this will result in an error. Use `array.size > 0` to check that an array is not empty.\n",
      "  if diff:\n",
      "/home/xavient/anaconda3/lib/python3.6/site-packages/sklearn/preprocessing/label.py:151: DeprecationWarning: The truth value of an empty array is ambiguous. Returning False, but in future this will result in an error. Use `array.size > 0` to check that an array is not empty.\n",
      "  if diff:\n",
      "/home/xavient/anaconda3/lib/python3.6/site-packages/sklearn/preprocessing/label.py:151: DeprecationWarning: The truth value of an empty array is ambiguous. Returning False, but in future this will result in an error. Use `array.size > 0` to check that an array is not empty.\n",
      "  if diff:\n",
      "/home/xavient/anaconda3/lib/python3.6/site-packages/sklearn/preprocessing/label.py:151: DeprecationWarning: The truth value of an empty array is ambiguous. Returning False, but in future this will result in an error. Use `array.size > 0` to check that an array is not empty.\n",
      "  if diff:\n",
      "/home/xavient/anaconda3/lib/python3.6/site-packages/sklearn/preprocessing/label.py:151: DeprecationWarning: The truth value of an empty array is ambiguous. Returning False, but in future this will result in an error. Use `array.size > 0` to check that an array is not empty.\n",
      "  if diff:\n",
      "/home/xavient/anaconda3/lib/python3.6/site-packages/sklearn/preprocessing/label.py:151: DeprecationWarning: The truth value of an empty array is ambiguous. Returning False, but in future this will result in an error. Use `array.size > 0` to check that an array is not empty.\n",
      "  if diff:\n",
      "/home/xavient/anaconda3/lib/python3.6/site-packages/sklearn/preprocessing/label.py:151: DeprecationWarning: The truth value of an empty array is ambiguous. Returning False, but in future this will result in an error. Use `array.size > 0` to check that an array is not empty.\n",
      "  if diff:\n",
      "/home/xavient/anaconda3/lib/python3.6/site-packages/sklearn/preprocessing/label.py:151: DeprecationWarning: The truth value of an empty array is ambiguous. Returning False, but in future this will result in an error. Use `array.size > 0` to check that an array is not empty.\n",
      "  if diff:\n",
      "/home/xavient/anaconda3/lib/python3.6/site-packages/sklearn/preprocessing/label.py:151: DeprecationWarning: The truth value of an empty array is ambiguous. Returning False, but in future this will result in an error. Use `array.size > 0` to check that an array is not empty.\n",
      "  if diff:\n",
      "/home/xavient/anaconda3/lib/python3.6/site-packages/sklearn/preprocessing/label.py:151: DeprecationWarning: The truth value of an empty array is ambiguous. Returning False, but in future this will result in an error. Use `array.size > 0` to check that an array is not empty.\n",
      "  if diff:\n"
     ]
    },
    {
     "name": "stderr",
     "output_type": "stream",
     "text": [
      "/home/xavient/anaconda3/lib/python3.6/site-packages/sklearn/preprocessing/label.py:151: DeprecationWarning: The truth value of an empty array is ambiguous. Returning False, but in future this will result in an error. Use `array.size > 0` to check that an array is not empty.\n",
      "  if diff:\n",
      "/home/xavient/anaconda3/lib/python3.6/site-packages/sklearn/preprocessing/label.py:151: DeprecationWarning: The truth value of an empty array is ambiguous. Returning False, but in future this will result in an error. Use `array.size > 0` to check that an array is not empty.\n",
      "  if diff:\n",
      "/home/xavient/anaconda3/lib/python3.6/site-packages/sklearn/preprocessing/label.py:151: DeprecationWarning: The truth value of an empty array is ambiguous. Returning False, but in future this will result in an error. Use `array.size > 0` to check that an array is not empty.\n",
      "  if diff:\n",
      "/home/xavient/anaconda3/lib/python3.6/site-packages/sklearn/preprocessing/label.py:151: DeprecationWarning: The truth value of an empty array is ambiguous. Returning False, but in future this will result in an error. Use `array.size > 0` to check that an array is not empty.\n",
      "  if diff:\n",
      "/home/xavient/anaconda3/lib/python3.6/site-packages/sklearn/preprocessing/label.py:151: DeprecationWarning: The truth value of an empty array is ambiguous. Returning False, but in future this will result in an error. Use `array.size > 0` to check that an array is not empty.\n",
      "  if diff:\n",
      "/home/xavient/anaconda3/lib/python3.6/site-packages/sklearn/preprocessing/label.py:151: DeprecationWarning: The truth value of an empty array is ambiguous. Returning False, but in future this will result in an error. Use `array.size > 0` to check that an array is not empty.\n",
      "  if diff:\n",
      "/home/xavient/anaconda3/lib/python3.6/site-packages/sklearn/preprocessing/label.py:151: DeprecationWarning: The truth value of an empty array is ambiguous. Returning False, but in future this will result in an error. Use `array.size > 0` to check that an array is not empty.\n",
      "  if diff:\n",
      "/home/xavient/anaconda3/lib/python3.6/site-packages/sklearn/preprocessing/label.py:151: DeprecationWarning: The truth value of an empty array is ambiguous. Returning False, but in future this will result in an error. Use `array.size > 0` to check that an array is not empty.\n",
      "  if diff:\n",
      "/home/xavient/anaconda3/lib/python3.6/site-packages/sklearn/preprocessing/label.py:151: DeprecationWarning: The truth value of an empty array is ambiguous. Returning False, but in future this will result in an error. Use `array.size > 0` to check that an array is not empty.\n",
      "  if diff:\n",
      "/home/xavient/anaconda3/lib/python3.6/site-packages/sklearn/preprocessing/label.py:151: DeprecationWarning: The truth value of an empty array is ambiguous. Returning False, but in future this will result in an error. Use `array.size > 0` to check that an array is not empty.\n",
      "  if diff:\n",
      "/home/xavient/anaconda3/lib/python3.6/site-packages/sklearn/preprocessing/label.py:151: DeprecationWarning: The truth value of an empty array is ambiguous. Returning False, but in future this will result in an error. Use `array.size > 0` to check that an array is not empty.\n",
      "  if diff:\n",
      "/home/xavient/anaconda3/lib/python3.6/site-packages/sklearn/preprocessing/label.py:151: DeprecationWarning: The truth value of an empty array is ambiguous. Returning False, but in future this will result in an error. Use `array.size > 0` to check that an array is not empty.\n",
      "  if diff:\n",
      "/home/xavient/anaconda3/lib/python3.6/site-packages/sklearn/preprocessing/label.py:151: DeprecationWarning: The truth value of an empty array is ambiguous. Returning False, but in future this will result in an error. Use `array.size > 0` to check that an array is not empty.\n",
      "  if diff:\n",
      "/home/xavient/anaconda3/lib/python3.6/site-packages/sklearn/preprocessing/label.py:151: DeprecationWarning: The truth value of an empty array is ambiguous. Returning False, but in future this will result in an error. Use `array.size > 0` to check that an array is not empty.\n",
      "  if diff:\n",
      "/home/xavient/anaconda3/lib/python3.6/site-packages/sklearn/preprocessing/label.py:151: DeprecationWarning: The truth value of an empty array is ambiguous. Returning False, but in future this will result in an error. Use `array.size > 0` to check that an array is not empty.\n",
      "  if diff:\n",
      "/home/xavient/anaconda3/lib/python3.6/site-packages/sklearn/preprocessing/label.py:151: DeprecationWarning: The truth value of an empty array is ambiguous. Returning False, but in future this will result in an error. Use `array.size > 0` to check that an array is not empty.\n",
      "  if diff:\n",
      "/home/xavient/anaconda3/lib/python3.6/site-packages/sklearn/preprocessing/label.py:151: DeprecationWarning: The truth value of an empty array is ambiguous. Returning False, but in future this will result in an error. Use `array.size > 0` to check that an array is not empty.\n",
      "  if diff:\n",
      "/home/xavient/anaconda3/lib/python3.6/site-packages/sklearn/preprocessing/label.py:151: DeprecationWarning: The truth value of an empty array is ambiguous. Returning False, but in future this will result in an error. Use `array.size > 0` to check that an array is not empty.\n",
      "  if diff:\n",
      "/home/xavient/anaconda3/lib/python3.6/site-packages/sklearn/preprocessing/label.py:151: DeprecationWarning: The truth value of an empty array is ambiguous. Returning False, but in future this will result in an error. Use `array.size > 0` to check that an array is not empty.\n",
      "  if diff:\n",
      "/home/xavient/anaconda3/lib/python3.6/site-packages/sklearn/preprocessing/label.py:151: DeprecationWarning: The truth value of an empty array is ambiguous. Returning False, but in future this will result in an error. Use `array.size > 0` to check that an array is not empty.\n",
      "  if diff:\n",
      "/home/xavient/anaconda3/lib/python3.6/site-packages/sklearn/preprocessing/label.py:151: DeprecationWarning: The truth value of an empty array is ambiguous. Returning False, but in future this will result in an error. Use `array.size > 0` to check that an array is not empty.\n",
      "  if diff:\n"
     ]
    },
    {
     "data": {
      "text/plain": [
       "RandomizedSearchCV(cv=5, error_score='raise',\n",
       "          estimator=XGBClassifier(base_score=0.5, booster='gbtree', colsample_bylevel=1,\n",
       "       colsample_bytree=1, gamma=0, learning_rate=0.1, max_delta_step=0,\n",
       "       max_depth=3, min_child_weight=1, missing=None, n_estimators=100,\n",
       "       n_jobs=1, nthread=None, objective='binary:logistic', random_state=0,\n",
       "       reg_alpha=0, reg_lambda=1, scale_pos_weight=1, seed=None,\n",
       "       silent=True, subsample=1),\n",
       "          fit_params={}, iid=True, n_iter=10, n_jobs=1,\n",
       "          param_distributions={'n_estimators': [3, 7, 11, 15, 19, 23, 27, 31, 35, 40], 'learning_rate': <scipy.stats._distn_infrastructure.rv_frozen object at 0x7f2ec0162c88>, 'max_depth': [1, 2, 3, 4, 5, 6, 7, 8, 9, 10], 'colsample_bytree': <scipy.stats._distn_infrastructure.rv_frozen object at 0x7f2ec016297...162b38>, 'min_child_weight': <scipy.stats._distn_infrastructure.rv_frozen object at 0x7f2ec0162b38>},\n",
       "          pre_dispatch='2*n_jobs', random_state=None, refit=True,\n",
       "          scoring=None, verbose=0)"
      ]
     },
     "execution_count": 176,
     "metadata": {},
     "output_type": "execute_result"
    }
   ],
   "source": [
    "gs_smote = RandomizedSearchCV(xgbclass, params, n_jobs=1, cv=5, verbose= 0)  \n",
    "gs_smote.fit(training_features, training_target)  "
   ]
  },
  {
   "cell_type": "code",
   "execution_count": 177,
   "metadata": {
    "extensions": {
     "jupyter_dashboards": {
      "version": 1,
      "views": {
       "grid_default": {
        "hidden": true
       },
       "report_default": {}
      }
     }
    }
   },
   "outputs": [],
   "source": [
    "#gs_smote2 = RandomizedSearchCV(xgbclass, params, n_jobs=1, verbose= 0)  \n",
    "#gs_smote2.fit(training_features2, training_target2)  "
   ]
  },
  {
   "cell_type": "code",
   "execution_count": 178,
   "metadata": {
    "extensions": {
     "jupyter_dashboards": {
      "version": 1,
      "views": {
       "grid_default": {
        "hidden": true
       },
       "report_default": {
        "hidden": true
       }
      }
     }
    }
   },
   "outputs": [
    {
     "name": "stdout",
     "output_type": "stream",
     "text": [
      "accuracy :0.9257388545667057\n",
      "cohen_kappa :0.28443378697930366\n",
      "recall :0.9662402274342573\n",
      " tn, fp, fn, tp :\n",
      "425 1019 760 21752\n",
      "matrix :\n",
      "[[  425  1019]\n",
      " [  760 21752]]\n",
      "report :\n",
      "             precision    recall  f1-score   support\n",
      "\n",
      "          0       0.36      0.29      0.32      1444\n",
      "          1       0.96      0.97      0.96     22512\n",
      "\n",
      "avg / total       0.92      0.93      0.92     23956\n",
      "\n"
     ]
    },
    {
     "name": "stderr",
     "output_type": "stream",
     "text": [
      "/home/xavient/anaconda3/lib/python3.6/site-packages/sklearn/preprocessing/label.py:151: DeprecationWarning: The truth value of an empty array is ambiguous. Returning False, but in future this will result in an error. Use `array.size > 0` to check that an array is not empty.\n",
      "  if diff:\n"
     ]
    }
   ],
   "source": [
    "# Check accuracy on test set\n",
    "\n",
    "xgb_smote_accuracy = evaluate(gs_smote,test_features,test_target)"
   ]
  },
  {
   "cell_type": "code",
   "execution_count": null,
   "metadata": {
    "extensions": {
     "jupyter_dashboards": {
      "version": 1,
      "views": {
       "grid_default": {
        "hidden": true
       },
       "report_default": {
        "hidden": true
       }
      }
     }
    }
   },
   "outputs": [],
   "source": [
    "# feature importance plots\n",
    "\n",
    "#print(\"XGBOOST with SMOTE feature importance\")\n",
    "feature_names = final.columns\n",
    "feature_importance = gs_smote.best_estimator_.feature_importances_\n",
    "sorted_idx = np.argsort(feature_importance)\n",
    "pos = np.arange(sorted_idx.shape[0]) + .5\n",
    "plt.figure(figsize=(10,fig_length/3))\n",
    "plt.barh(pos, feature_importance[sorted_idx], align='center')\n",
    "plt.yticks(pos, feature_names[sorted_idx])\n",
    "feature_names[sorted_idx]\n",
    "plt.show()\n"
   ]
  },
  {
   "cell_type": "code",
   "execution_count": null,
   "metadata": {
    "extensions": {
     "jupyter_dashboards": {
      "version": 1,
      "views": {
       "grid_default": {
        "hidden": true
       },
       "report_default": {}
      }
     }
    }
   },
   "outputs": [],
   "source": [
    "feature_names[sorted_idx]"
   ]
  },
  {
   "cell_type": "code",
   "execution_count": null,
   "metadata": {
    "extensions": {
     "jupyter_dashboards": {
      "version": 1,
      "views": {
       "grid_default": {
        "hidden": true
       },
       "report_default": {
        "hidden": true
       }
      }
     }
    }
   },
   "outputs": [],
   "source": [
    "def evaluate_accuracy(model, X_test, y_test):\n",
    "    y_pred = model.predict(X_test)\n",
    "    accuracy = accuracy_score(y_test,y_pred)*100\n",
    "    return accuracy\n",
    "#'''\n",
    "#def evaluate_kappa(model, X_test, y_test):\n",
    "#    y_pred = model.predict(X_test)\n",
    "#    kappa = cohen_kappa_score(y_test, y_pred, sample_weight=None)*100\n",
    "#    return kappa\n",
    "#'''\n",
    "def evaluate_recall(model, X_test, y_test):\n",
    "    y_pred = model.predict(X_test)\n",
    "    recall = recall_score(y_test,y_pred)*100\n",
    "    return recall\n",
    "\n",
    "def evaluate_precision(model, X_test, y_test):\n",
    "    y_pred = model.predict(X_test)\n",
    "    precision = precision_score(y_test,y_pred)*100\n",
    "    return precision\n",
    "\n",
    "def evaluate_con_mat_row(model, X_test, y_test):\n",
    "    y_pred = model.predict(X_test)\n",
    "    tn, fp, fn, tp = confusion_matrix(y_test, y_pred).ravel()\n",
    "    return (tn, fp, fn, tp)"
   ]
  },
  {
   "cell_type": "code",
   "execution_count": null,
   "metadata": {
    "extensions": {
     "jupyter_dashboards": {
      "version": 1,
      "views": {
       "grid_default": {
        "hidden": true
       },
       "report_default": {
        "hidden": true
       }
      }
     }
    }
   },
   "outputs": [],
   "source": [
    "xgbm_smote_accuracy = evaluate_accuracy(gs_smote,test_features,test_target)\n",
    "rf_smote_accuracy = evaluate_accuracy(rf_smote,test_features,test_target)\n",
    "ada_smote_accuracy = evaluate_accuracy(ada_smote,test_features,test_target)\n",
    "tf_smote_accuracy = evaluate_accuracy(model_smote,test_features,test_target)\n",
    "\n",
    "#xgbm_smote_kappa = evaluate_kappa(gs_smote,test_features,test_target)\n",
    "#rf_smote_kappa = evaluate_kappa(rf_smote,test_features,test_target)\n",
    "#ada_smote_kappa = evaluate_kappa(ada_smote,test_features,test_target)\n",
    "#tf_smote_kappa = evaluate_kappa(model_smote,test_features,test_target)\n",
    "\n",
    "xgbm_smote_recall = evaluate_recall(gs_smote,test_features,test_target)\n",
    "rf_smote_recall = evaluate_recall(rf_smote,test_features,test_target)\n",
    "ada_smote_recall = evaluate_recall(ada_smote,test_features,test_target)\n",
    "tf_smote_recall = evaluate_recall(model_smote,test_features,test_target)\n",
    "\n",
    "xgbm_smote_precision = evaluate_precision(gs_smote,test_features,test_target)\n",
    "rf_smote_precision = evaluate_precision(rf_smote,test_features,test_target)\n",
    "ada_smote_precision = evaluate_precision(ada_smote,test_features,test_target)\n",
    "tf_smote_precision = evaluate_precision(model_smote,test_features,test_target)\n",
    "\n",
    "xgbm_smote_tfft = evaluate_con_mat_row(gs_smote,test_features,test_target)\n",
    "rf_smote_tfft = evaluate_con_mat_row(rf_smote,test_features,test_target)\n",
    "ada_smote_tfft = evaluate_con_mat_row(ada_smote,test_features,test_target)\n",
    "tf_smote_tfft = evaluate_con_mat_row(model_smote,test_features,test_target)\n"
   ]
  },
  {
   "cell_type": "code",
   "execution_count": null,
   "metadata": {
    "extensions": {
     "jupyter_dashboards": {
      "version": 1,
      "views": {
       "grid_default": {
        "hidden": true
       },
       "report_default": {
        "hidden": true
       }
      }
     }
    }
   },
   "outputs": [],
   "source": [
    "report = [{'model': 'XGBM', 'accuracy%': xgbm_smote_accuracy, 'hit rate%': xgbm_smote_recall, 'precision%': xgbm_smote_precision,'tn, fp, fn, tp': xgbm_smote_tfft},\n",
    "          {'model': 'RF',  'accuracy%': rf_smote_accuracy, 'hit rate%': rf_smote_recall, 'precision%': rf_smote_precision,'tn, fp, fn, tp': rf_smote_tfft},\n",
    "          {'model': 'ADA', 'accuracy%': ada_smote_accuracy, 'hit rate%': ada_smote_recall, 'precision%': ada_smote_precision ,'tn, fp, fn, tp': ada_smote_tfft },\n",
    "          {'model': 'tf', 'accuracy%': tf_smote_accuracy,  'hit rate%': tf_smote_recall, 'precision%': tf_smote_precision ,'tn, fp, fn, tp': tf_smote_tfft }]\n",
    "df1 = pd.DataFrame(report)\n",
    "df1 = df1[['model', 'accuracy%', 'hit rate%', 'precision%','tn, fp, fn, tp']]"
   ]
  },
  {
   "cell_type": "code",
   "execution_count": null,
   "metadata": {
    "extensions": {
     "jupyter_dashboards": {
      "version": 1,
      "views": {
       "grid_default": {
        "hidden": true
       },
       "report_default": {
        "hidden": true
       }
      }
     }
    }
   },
   "outputs": [],
   "source": [
    "print(df1)"
   ]
  },
  {
   "cell_type": "code",
   "execution_count": null,
   "metadata": {
    "extensions": {
     "jupyter_dashboards": {
      "version": 1,
      "views": {
       "grid_default": {
        "hidden": true
       },
       "report_default": {
        "hidden": true
       }
      }
     }
    }
   },
   "outputs": [],
   "source": [
    "df1 = df1.set_index('model')"
   ]
  },
  {
   "cell_type": "code",
   "execution_count": null,
   "metadata": {
    "extensions": {
     "jupyter_dashboards": {
      "version": 1,
      "views": {
       "grid_default": {
        "hidden": true
       },
       "report_default": {
        "hidden": true
       }
      }
     }
    }
   },
   "outputs": [],
   "source": [
    "df1.iloc[:,[0]].plot.bar(logy=True,figsize=(df_length/2, 4),color='b')"
   ]
  },
  {
   "cell_type": "code",
   "execution_count": null,
   "metadata": {
    "extensions": {
     "jupyter_dashboards": {
      "version": 1,
      "views": {
       "grid_default": {
        "hidden": true
       },
       "report_default": {
        "hidden": true
       }
      }
     }
    }
   },
   "outputs": [],
   "source": [
    "df1.iloc[:,[1]].plot.bar(logy=True,figsize=(df_length/2, 4),color='c')\n"
   ]
  },
  {
   "cell_type": "code",
   "execution_count": null,
   "metadata": {
    "extensions": {
     "jupyter_dashboards": {
      "version": 1,
      "views": {
       "grid_default": {
        "hidden": true
       },
       "report_default": {
        "hidden": true
       }
      }
     }
    }
   },
   "outputs": [],
   "source": [
    "df1.iloc[:,[2]].plot.bar(logy=True,figsize=(df_length/2, 4),color='g')"
   ]
  },
  {
   "cell_type": "code",
   "execution_count": null,
   "metadata": {
    "extensions": {
     "jupyter_dashboards": {
      "version": 1,
      "views": {
       "grid_default": {
        "hidden": true
       },
       "report_default": {
        "hidden": true
       }
      }
     }
    }
   },
   "outputs": [],
   "source": [
    "#df1.iloc[:,[3]].plot.bar(logy=True,figsize=(df_length/2, 4),color='m')"
   ]
  },
  {
   "cell_type": "code",
   "execution_count": null,
   "metadata": {
    "extensions": {
     "jupyter_dashboards": {
      "version": 1,
      "views": {
       "grid_default": {
        "hidden": true
       },
       "report_default": {
        "hidden": true
       }
      }
     }
    }
   },
   "outputs": [],
   "source": [
    "df1.plot()\n",
    "plt.show()\n",
    "#fig, ax = plt.subplots(1, 1)\n",
    "#ax.get_xaxis().set_visible(False)   # Hide Ticks\n",
    "\n",
    "#df1.plot(table=np.round(df1.T, 2), ax=ax)\n",
    "#plt.savefig('myplot.png')"
   ]
  },
  {
   "cell_type": "code",
   "execution_count": 179,
   "metadata": {
    "extensions": {
     "jupyter_dashboards": {
      "version": 1,
      "views": {
       "grid_default": {
        "hidden": true
       },
       "report_default": {
        "hidden": true
       }
      }
     }
    }
   },
   "outputs": [],
   "source": [
    "# import pickle\n",
    "import pickle\n",
    "\n",
    "# save RF model to disk\n",
    "filename2 = 'finalized_rf.sav'\n",
    "pickle.dump(rf_smote, open(filename2, 'wb'))\n",
    "\n",
    "# save Adaboost model to disk\n",
    "#filename3 = 'finalized_ada.sav'\n",
    "#pickle.dump(ada_smote, open(filename3, 'wb'))\n",
    "\n",
    "################XGBoost model save\n",
    "# save XGB_smote model to disk\n",
    "filename1x_smote = 'finalized_xgb.sav'\n",
    "pickle.dump(gs_smote, open(filename1x_smote, 'wb'))"
   ]
  },
  {
   "cell_type": "code",
   "execution_count": null,
   "metadata": {
    "extensions": {
     "jupyter_dashboards": {
      "version": 1,
      "views": {
       "grid_default": {
        "hidden": true
       },
       "report_default": {
        "hidden": true
       }
      }
     }
    }
   },
   "outputs": [],
   "source": [
    "# serialize model to JSON\n",
    "model_smote_json = model_smote.model.to_json()\n",
    "with open(\"model_json.json\", \"w\") as json_file:\n",
    "    json_file.write(model_smote_json)\n",
    "# serialize weights to HDF5\n",
    "model_smote.model.save_weights(\"model_json.h5\")\n",
    "print(\"Saved model to disk\")"
   ]
  },
  {
   "cell_type": "code",
   "execution_count": null,
   "metadata": {
    "extensions": {
     "jupyter_dashboards": {
      "version": 1,
      "views": {
       "grid_default": {
        "hidden": true
       },
       "report_default": {}
      }
     }
    }
   },
   "outputs": [],
   "source": [
    "# LIME SECTION\n",
    "import lime\n",
    "import lime.lime_tabular\n",
    "from __future__ import print_function"
   ]
  },
  {
   "cell_type": "code",
   "execution_count": null,
   "metadata": {
    "extensions": {
     "jupyter_dashboards": {
      "version": 1,
      "views": {
       "grid_default": {
        "hidden": true
       },
       "report_default": {
        "hidden": true
       }
      }
     }
    }
   },
   "outputs": [],
   "source": [
    "predict_fn_rf = lambda x: rf_smote.best_estimator_.predict_proba(x).astype(float)\n",
    "predict_fn_ada = lambda x: ada_smote.best_estimator_.predict_proba(x).astype(float)\n",
    "predict_fn_xgb = lambda x: gs_smote.best_estimator_.predict_proba(x).astype(float)\n",
    "predict_fn_tf = lambda x: model_smote.predict_proba(x).astype(float)\n",
    "\n",
    "# Line-up the feature names\n",
    "if list(train_cat_features)!= []:\n",
    "    feature_names_cat = list(train_cat_features_ver2)\n",
    "else:\n",
    "    feature_names_cat =[]\n",
    "feature_names_float = list(scale_columns_final_nz)\n",
    "\n",
    "if list(train_cat_features)!= []:\n",
    "    feature_names = sum([feature_names_cat, feature_names_float], [])\n",
    "else:\n",
    "    feature_names = feature_names_float"
   ]
  },
  {
   "cell_type": "code",
   "execution_count": null,
   "metadata": {
    "extensions": {
     "jupyter_dashboards": {
      "version": 1,
      "views": {
       "grid_default": {
        "hidden": true
       },
       "report_default": {}
      }
     }
    }
   },
   "outputs": [],
   "source": [
    "'''\n",
    "predict_fn_rf2 = lambda x: rf_smote2.best_estimator_.predict_proba(x).astype(float)\n",
    "predict_fn_ada2 = lambda x: ada_smote2.best_estimator_.predict_proba(x).astype(float)\n",
    "predict_fn_xgb2 = lambda x: gs_smote2.best_estimator_.predict_proba(x).astype(float)\n",
    "predict_fn_tf2 = lambda x: model_smote2.predict_proba(x).astype(float)\n",
    "\n",
    "# Line-up the feature names\n",
    "if list(train_cat_features2)!= []:\n",
    "    feature_names_cat2 = list(train_cat_features_ver22)\n",
    "else:\n",
    "    feature_names_cat2 =[]\n",
    "feature_names_float2 = list(scale_columns_final_nz)\n",
    "\n",
    "if list(train_cat_features2)!= []:\n",
    "    feature_names2 = sum([feature_names_cat2, feature_names_float2], [])\n",
    "else:\n",
    "    feature_names2 = feature_names_float2\n",
    "'''"
   ]
  },
  {
   "cell_type": "code",
   "execution_count": null,
   "metadata": {
    "extensions": {
     "jupyter_dashboards": {
      "version": 1,
      "views": {
       "grid_default": {
        "hidden": true
       },
       "report_default": {
        "hidden": true
       }
      }
     }
    }
   },
   "outputs": [],
   "source": [
    "#print(feature_names)\n",
    "#print(target_names)\n",
    "#print(cat_columns)\n",
    "#print(feature_names_cat)"
   ]
  },
  {
   "cell_type": "code",
   "execution_count": null,
   "metadata": {
    "extensions": {
     "jupyter_dashboards": {
      "version": 1,
      "views": {
       "grid_default": {
        "hidden": true
       },
       "report_default": {
        "hidden": true
       }
      }
     }
    }
   },
   "outputs": [],
   "source": [
    "# saving numeric columns for scoring\n",
    "feature_names = feature_names\n",
    "pickle_out_num = open(\"feature_names.pickle\",\"wb\")\n",
    "pickle.dump(feature_names, pickle_out_num)\n",
    "pickle_out_num.close()"
   ]
  },
  {
   "cell_type": "code",
   "execution_count": null,
   "metadata": {
    "extensions": {
     "jupyter_dashboards": {
      "version": 1,
      "views": {
       "grid_default": {
        "hidden": true
       },
       "report_default": {}
      }
     }
    }
   },
   "outputs": [],
   "source": [
    "#'''# saving numeric columns for scoring\n",
    "#feature_names2 = feature_names2\n",
    "#pickle_out_num = open(\"feature_names2.pickle\",\"wb\")\n",
    "#pickle.dump(feature_names2, pickle_out_num)\n",
    "#pickle_out_num.close()\n",
    "#'''"
   ]
  },
  {
   "cell_type": "code",
   "execution_count": null,
   "metadata": {
    "extensions": {
     "jupyter_dashboards": {
      "version": 1,
      "views": {
       "grid_default": {
        "hidden": true
       },
       "report_default": {
        "hidden": true
       }
      }
     }
    }
   },
   "outputs": [],
   "source": [
    "# saving numeric columns for scoring\n",
    "target_names = target_names\n",
    "pickle_out_num = open(\"target_names.pickle\",\"wb\")\n",
    "pickle.dump(target_names, pickle_out_num)\n",
    "pickle_out_num.close()"
   ]
  },
  {
   "cell_type": "code",
   "execution_count": null,
   "metadata": {
    "extensions": {
     "jupyter_dashboards": {
      "version": 1,
      "views": {
       "grid_default": {
        "hidden": true
       },
       "report_default": {
        "hidden": true
       }
      }
     }
    }
   },
   "outputs": [],
   "source": [
    "# saving numeric columns for scoring\n",
    "cat_columns = cat_columns\n",
    "pickle_out_num = open(\"cat_columns.pickle\",\"wb\")\n",
    "pickle.dump(cat_columns, pickle_out_num)\n",
    "pickle_out_num.close()"
   ]
  },
  {
   "cell_type": "code",
   "execution_count": null,
   "metadata": {
    "extensions": {
     "jupyter_dashboards": {
      "version": 1,
      "views": {
       "grid_default": {
        "hidden": true
       },
       "report_default": {}
      }
     }
    }
   },
   "outputs": [],
   "source": [
    "#'''# saving numeric columns for scoring\n",
    "#cat_columns2 = cat_columns2\n",
    "#pickle_out_num = open(\"cat_columns2.pickle\",\"wb\")\n",
    "#pickle.dump(cat_columns2, pickle_out_num)\n",
    "#pickle_out_num.close()\n",
    "#'''"
   ]
  },
  {
   "cell_type": "code",
   "execution_count": null,
   "metadata": {
    "extensions": {
     "jupyter_dashboards": {
      "version": 1,
      "views": {
       "grid_default": {
        "hidden": true
       },
       "report_default": {
        "hidden": true
       }
      }
     }
    }
   },
   "outputs": [],
   "source": [
    "# saving numeric columns for scoring\n",
    "feature_names_cat = feature_names_cat\n",
    "pickle_out_num = open(\"feature_names_cat.pickle\",\"wb\")\n",
    "pickle.dump(feature_names_cat, pickle_out_num)\n",
    "pickle_out_num.close()"
   ]
  },
  {
   "cell_type": "code",
   "execution_count": null,
   "metadata": {
    "extensions": {
     "jupyter_dashboards": {
      "version": 1,
      "views": {
       "grid_default": {
        "hidden": true
       },
       "report_default": {}
      }
     }
    }
   },
   "outputs": [],
   "source": [
    "#'''# saving numeric columns for scoring\n",
    "#feature_names_cat2 = feature_names_cat2\n",
    "#pickle_out_num = open(\"feature_names_cat2.pickle\",\"wb\")\n",
    "#pickle.dump(feature_names_cat2, pickle_out_num)\n",
    "#pickle_out_num.close()\n",
    "#'''"
   ]
  },
  {
   "cell_type": "code",
   "execution_count": null,
   "metadata": {
    "extensions": {
     "jupyter_dashboards": {
      "version": 1,
      "views": {
       "grid_default": {
        "hidden": true
       },
       "report_default": {
        "hidden": true
       }
      }
     }
    }
   },
   "outputs": [],
   "source": [
    "# saving X for scoring\n",
    "X_train_res = training_features\n",
    "pickle_out_num = open(\"X_train_res.pickle\",\"wb\")\n",
    "pickle.dump(X_train_res, pickle_out_num)\n",
    "pickle_out_num.close()"
   ]
  },
  {
   "cell_type": "code",
   "execution_count": null,
   "metadata": {
    "extensions": {
     "jupyter_dashboards": {
      "version": 1,
      "views": {
       "grid_default": {
        "hidden": true
       },
       "report_default": {}
      }
     }
    }
   },
   "outputs": [],
   "source": [
    "#'''# saving X for scoring\n",
    "#X_train_res2 = training_features2\n",
    "#pickle_out_num = open(\"X_train_res.pickle\",\"wb\")\n",
    "#pickle.dump(X_train_res, pickle_out_num)\n",
    "#pickle_out_num.close()\n",
    "#'''"
   ]
  },
  {
   "cell_type": "code",
   "execution_count": null,
   "metadata": {
    "extensions": {
     "jupyter_dashboards": {
      "version": 1,
      "views": {
       "grid_default": {
        "hidden": true
       },
       "report_default": {
        "hidden": true
       }
      }
     }
    }
   },
   "outputs": [],
   "source": [
    "# Create the LIME Explainer\n",
    "explainer = lime.lime_tabular.LimeTabularExplainer(X_train_res ,class_names=target_names, feature_names = feature_names,\n",
    "                                                   categorical_features = cat_columns, categorical_names = feature_names_cat)#,\n",
    "                                                   #kernel_width = 3, discretize_continuous = True)"
   ]
  },
  {
   "cell_type": "code",
   "execution_count": null,
   "metadata": {
    "extensions": {
     "jupyter_dashboards": {
      "version": 1,
      "views": {
       "grid_default": {
        "hidden": true
       },
       "report_default": {}
      }
     }
    }
   },
   "outputs": [],
   "source": [
    "#'''\n",
    "# Create the LIME Explainer\n",
    "#explainer2 = lime.lime_tabular.LimeTabularExplainer(X_train_res2 ,class_names=target_names, feature_names = feature_names2,\n",
    "#                                                   categorical_features = cat_columns2, categorical_names = categorical_names)#,\n",
    "#                                                   #kernel_width = 3, discretize_continuous = True)\n",
    "#'''"
   ]
  },
  {
   "cell_type": "code",
   "execution_count": null,
   "metadata": {
    "extensions": {
     "jupyter_dashboards": {
      "version": 1,
      "views": {
       "grid_default": {
        "hidden": true
       },
       "report_default": {
        "hidden": true
       }
      }
     }
    }
   },
   "outputs": [],
   "source": [
    "# Pick the observation in the validation set for which explanation is required\n",
    "observation_1 = 1#232#1232#7813"
   ]
  },
  {
   "cell_type": "code",
   "execution_count": null,
   "metadata": {
    "extensions": {
     "jupyter_dashboards": {
      "version": 1,
      "views": {
       "grid_default": {
        "hidden": true
       },
       "report_default": {
        "hidden": true
       }
      }
     }
    }
   },
   "outputs": [],
   "source": [
    "# Get the explanation for RF\n",
    "exp = explainer.explain_instance(test_features[observation_1], predict_fn_xgb, num_features=5)\n",
    "exp.show_in_notebook(show_all=False)"
   ]
  },
  {
   "cell_type": "code",
   "execution_count": null,
   "metadata": {},
   "outputs": [],
   "source": [
    "#9891166759"
   ]
  }
 ],
 "metadata": {
  "extensions": {
   "jupyter_dashboards": {
    "activeView": "grid_default",
    "version": 1,
    "views": {
     "grid_default": {
      "cellMargin": 10,
      "defaultCellHeight": 20,
      "maxColumns": 12,
      "name": "grid",
      "type": "grid"
     },
     "report_default": {
      "name": "report",
      "type": "report"
     }
    }
   }
  },
  "kernelspec": {
   "display_name": "Python 3",
   "language": "python",
   "name": "python3"
  },
  "language_info": {
   "codemirror_mode": {
    "name": "ipython",
    "version": 3
   },
   "file_extension": ".py",
   "mimetype": "text/x-python",
   "name": "python",
   "nbconvert_exporter": "python",
   "pygments_lexer": "ipython3",
   "version": "3.6.4"
  }
 },
 "nbformat": 4,
 "nbformat_minor": 2
}
